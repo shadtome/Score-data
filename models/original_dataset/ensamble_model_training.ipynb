{
 "cells": [
  {
   "cell_type": "code",
   "execution_count": 39,
   "metadata": {},
   "outputs": [],
   "source": [
    "import importlib\n",
    "import numpy as np\n",
    "import matplotlib.pyplot as plt\n",
    "import pandas as pd\n",
    "import ensamble_model as em\n",
    "importlib.reload(em)\n",
    "\n",
    "# Train Data\n",
    "fd = '../../data/main_data/train/train.csv'\n",
    "train = pd.read_csv(fd)\n",
    "\n",
    "# Test Data\n",
    "fd = '../../data/main_data/test/test.csv'\n",
    "test = pd.read_csv(fd)"
   ]
  },
  {
   "cell_type": "code",
   "execution_count": 2,
   "metadata": {},
   "outputs": [
    {
     "name": "stdout",
     "output_type": "stream",
     "text": [
      "MSE for train: mean: 49961930100825.71 std: 1766190834328.662\n",
      "MSE for test:  mean: 52623128336151.76  std: 16157787424203.045\n",
      "\n",
      "RMSE for train: mean: 7067261.791999064 std: 125462.60070582716\n",
      "RMSE for test: mean: 7167938.0340295015 std: 1115254.5343844378\n",
      "\n",
      "R^2 for train: mean: 0.4080075808979379 std: 0.006344560557093116\n",
      "R^2 for test: mean: 0.3709262457835678 std: 0.07693190732989633\n",
      "\n",
      "MAE for train: mean: 3607039.4571535764 std: 52779.976526211336\n",
      "MAE for test: mean: 3660546.333153973 std: 185378.77754387652\n",
      "\n",
      "MAPE for train: mean: 4.104013257779082 std: 0.05894752588706118\n",
      "MAPE for test: mean: 4.1451680329698934 std: 0.5716244798784486\n",
      "\n"
     ]
    }
   ],
   "source": [
    "general = em.general_Regression(train,type='LR')\n",
    "general.perform_CV()"
   ]
  },
  {
   "cell_type": "code",
   "execution_count": 3,
   "metadata": {},
   "outputs": [
    {
     "name": "stdout",
     "output_type": "stream",
     "text": [
      "MSE for train: mean: 61683219833298.81 std: 2219945018031.943\n",
      "MSE for test:  mean: 62205878727569.86  std: 20011922777712.785\n",
      "\n",
      "RMSE for train: mean: 7852586.7440355215 std: 141778.91485141055\n",
      "RMSE for test: mean: 7783601.32705945 std: 1273353.4894004185\n",
      "\n",
      "R^2 for train: mean: 0.2691621147664784 std: 0.0052409632861336675\n",
      "R^2 for test: mean: 0.2639280823504907 std: 0.05308575164317294\n",
      "\n",
      "MAE for train: mean: 3838273.851915125 std: 54560.33622877767\n",
      "MAE for test: mean: 3851011.914504575 std: 252278.20128958815\n",
      "\n",
      "MAPE for train: mean: 4.717831190395815 std: 0.07551720201912203\n",
      "MAPE for test: mean: 4.728688995878598 std: 0.5542047421151353\n",
      "\n"
     ]
    }
   ],
   "source": [
    "g_model = em.G_Pos(train)\n",
    "g_model.perform_CV()\n"
   ]
  },
  {
   "cell_type": "code",
   "execution_count": 4,
   "metadata": {},
   "outputs": [
    {
     "name": "stdout",
     "output_type": "stream",
     "text": [
      "MSE for train: mean: 50544228181063.92 std: 1802962172237.9333\n",
      "MSE for test:  mean: 53121591192881.555  std: 16483703522198.58\n",
      "\n",
      "RMSE for train: mean: 7108305.294912612 std: 127373.52700318863\n",
      "RMSE for test: mean: 7200370.978870483 std: 1129711.892263365\n",
      "\n",
      "R^2 for train: mean: 0.40111617463962174 std: 0.006332628828309911\n",
      "R^2 for test: mean: 0.3656441369508611 std: 0.07528484299740598\n",
      "\n",
      "MAE for train: mean: 3610349.5081242 std: 51834.37294181964\n",
      "MAE for test: mean: 3659425.1013683877 std: 192222.99592860552\n",
      "\n",
      "MAPE for train: mean: 4.061381454039268 std: 0.056254552993016876\n",
      "MAPE for test: mean: 4.094471598801382 std: 0.5632261402184444\n",
      "\n"
     ]
    }
   ],
   "source": [
    "d_model = em.D_Pos(train)\n",
    "d_model.perform_CV()"
   ]
  },
  {
   "cell_type": "code",
   "execution_count": 5,
   "metadata": {},
   "outputs": [
    {
     "name": "stdout",
     "output_type": "stream",
     "text": [
      "MSE for train: mean: 50294405634312.64 std: 1784796950948.8962\n",
      "MSE for test:  mean: 52895234591291.83  std: 16316294433226.521\n",
      "\n",
      "RMSE for train: mean: 7090728.837536447 std: 126373.20460311424\n",
      "RMSE for test: mean: 7185767.778406923 std: 1122486.5371578664\n",
      "\n",
      "R^2 for train: mean: 0.40407152347115005 std: 0.006349294850707546\n",
      "R^2 for test: mean: 0.36796804976146796 std: 0.07650070079951457\n",
      "\n",
      "MAE for train: mean: 3603893.397093645 std: 51871.309000422945\n",
      "MAE for test: mean: 3654779.804799214 std: 186489.74129049366\n",
      "\n",
      "MAPE for train: mean: 4.0574758598876555 std: 0.05661994647567225\n",
      "MAPE for test: mean: 4.094595715678373 std: 0.5810236718762408\n",
      "\n"
     ]
    }
   ],
   "source": [
    "m_model = em.M_Pos(train)\n",
    "m_model.perform_CV()"
   ]
  },
  {
   "cell_type": "code",
   "execution_count": 6,
   "metadata": {},
   "outputs": [
    {
     "name": "stdout",
     "output_type": "stream",
     "text": [
      "MSE for train: mean: 50544228181063.92 std: 1802962172237.9333\n",
      "MSE for test:  mean: 53121591192881.555  std: 16483703522198.58\n",
      "\n",
      "RMSE for train: mean: 7108305.294912612 std: 127373.52700318863\n",
      "RMSE for test: mean: 7200370.978870483 std: 1129711.892263365\n",
      "\n",
      "R^2 for train: mean: 0.40111617463962174 std: 0.006332628828309911\n",
      "R^2 for test: mean: 0.3656441369508611 std: 0.07528484299740598\n",
      "\n",
      "MAE for train: mean: 3610349.5081242 std: 51834.37294181964\n",
      "MAE for test: mean: 3659425.1013683877 std: 192222.99592860552\n",
      "\n",
      "MAPE for train: mean: 4.061381454039268 std: 0.056254552993016876\n",
      "MAPE for test: mean: 4.094471598801382 std: 0.5632261402184444\n",
      "\n"
     ]
    }
   ],
   "source": [
    "f_model = em.F_Pos(train)\n",
    "f_model.perform_CV()"
   ]
  },
  {
   "cell_type": "code",
   "execution_count": 7,
   "metadata": {},
   "outputs": [
    {
     "name": "stdout",
     "output_type": "stream",
     "text": [
      "MSE for train: mean: 47067774220465.875 std: 1608129583158.1545\n",
      "MSE for test:  mean: 53069589118872.61  std: 15211355486132.438\n",
      "\n",
      "RMSE for train: mean: 6859583.605203572 std: 117843.04683879399\n",
      "RMSE for test: mean: 7212619.981221761 std: 1023573.2144567011\n",
      "\n",
      "R^2 for train: mean: 0.4422764274646175 std: 0.00610570403278057\n",
      "R^2 for test: mean: 0.3578213076742 std: 0.09857481553917803\n",
      "\n",
      "MAE for train: mean: 3581415.0837480677 std: 49290.10083694372\n",
      "MAE for test: mean: 3711861.345793127 std: 190021.43319106396\n",
      "\n",
      "MAPE for train: mean: 4.004039934289492 std: 0.05615761669443768\n",
      "MAPE for test: mean: 4.080809144668858 std: 0.5267677823546241\n",
      "\n"
     ]
    }
   ],
   "source": [
    "ensamble = em.ensamble_model()\n",
    "ensamble.perform_CV(train)"
   ]
  },
  {
   "cell_type": "code",
   "execution_count": 40,
   "metadata": {},
   "outputs": [
    {
     "ename": "KeyError",
     "evalue": "'ELASTICR'",
     "output_type": "error",
     "traceback": [
      "\u001b[0;31m---------------------------------------------------------------------------\u001b[0m",
      "\u001b[0;31mKeyError\u001b[0m                                  Traceback (most recent call last)",
      "Cell \u001b[0;32mIn[40], line 3\u001b[0m\n\u001b[1;32m      1\u001b[0m \u001b[38;5;66;03m# Lets try some hyperparameter tuning:\u001b[39;00m\n\u001b[0;32m----> 3\u001b[0m hp \u001b[38;5;241m=\u001b[39m \u001b[43mem\u001b[49m\u001b[38;5;241;43m.\u001b[39;49m\u001b[43mhyperparameter_tuning\u001b[49m\u001b[43m(\u001b[49m\u001b[43mtrain\u001b[49m\u001b[43m,\u001b[49m\u001b[43mn_iter\u001b[49m\u001b[38;5;241;43m=\u001b[39;49m\u001b[38;5;241;43m1\u001b[39;49m\u001b[43m,\u001b[49m\u001b[43mcv\u001b[49m\u001b[38;5;241;43m=\u001b[39;49m\u001b[38;5;241;43m2\u001b[39;49m\u001b[43m)\u001b[49m\n\u001b[1;32m      4\u001b[0m display(hp\u001b[38;5;241m.\u001b[39mbest_params, hp\u001b[38;5;241m.\u001b[39mbest_score)\n",
      "File \u001b[0;32m~/Documents/DataSciBC/EPLTransfer/models/original_dataset/ensamble_model.py:454\u001b[0m, in \u001b[0;36mhyperparameter_tuning.__init__\u001b[0;34m(self, data, n_iter, cv)\u001b[0m\n\u001b[1;32m    432\u001b[0m \u001b[38;5;28mself\u001b[39m\u001b[38;5;241m.\u001b[39mmodels \u001b[38;5;241m=\u001b[39m [\u001b[38;5;124m'\u001b[39m\u001b[38;5;124mLR\u001b[39m\u001b[38;5;124m'\u001b[39m,\u001b[38;5;124m'\u001b[39m\u001b[38;5;124mLASSO\u001b[39m\u001b[38;5;124m'\u001b[39m,\u001b[38;5;124m'\u001b[39m\u001b[38;5;124mRIDGE\u001b[39m\u001b[38;5;124m'\u001b[39m,\u001b[38;5;124m'\u001b[39m\u001b[38;5;124mELASTICR\u001b[39m\u001b[38;5;124m'\u001b[39m,\u001b[38;5;124m'\u001b[39m\u001b[38;5;124mKNN\u001b[39m\u001b[38;5;124m'\u001b[39m,\u001b[38;5;124m'\u001b[39m\u001b[38;5;124mDT\u001b[39m\u001b[38;5;124m'\u001b[39m,\u001b[38;5;124m'\u001b[39m\u001b[38;5;124mRFR\u001b[39m\u001b[38;5;124m'\u001b[39m,\u001b[38;5;124m'\u001b[39m\u001b[38;5;124mGBR\u001b[39m\u001b[38;5;124m'\u001b[39m]\n\u001b[1;32m    433\u001b[0m \u001b[38;5;28mself\u001b[39m\u001b[38;5;241m.\u001b[39mparameters \u001b[38;5;241m=\u001b[39m {\u001b[38;5;124m'\u001b[39m\u001b[38;5;124mLR\u001b[39m\u001b[38;5;124m'\u001b[39m: {},\n\u001b[1;32m    434\u001b[0m                    \u001b[38;5;124m'\u001b[39m\u001b[38;5;124mLASSO\u001b[39m\u001b[38;5;124m'\u001b[39m: {\u001b[38;5;124m'\u001b[39m\u001b[38;5;124malpha\u001b[39m\u001b[38;5;124m'\u001b[39m : [\u001b[38;5;241m0.5\u001b[39m,\u001b[38;5;241m1\u001b[39m,\u001b[38;5;241m1.5\u001b[39m]},\n\u001b[1;32m    435\u001b[0m                    \u001b[38;5;124m'\u001b[39m\u001b[38;5;124mLASSO\u001b[39m\u001b[38;5;124m'\u001b[39m: {\u001b[38;5;124m'\u001b[39m\u001b[38;5;124malpha\u001b[39m\u001b[38;5;124m'\u001b[39m : [\u001b[38;5;241m0.5\u001b[39m,\u001b[38;5;241m1\u001b[39m,\u001b[38;5;241m1.5\u001b[39m]},\n\u001b[0;32m   (...)\u001b[0m\n\u001b[1;32m    451\u001b[0m                              \u001b[38;5;124m'\u001b[39m\u001b[38;5;124mmin_samples_leaf\u001b[39m\u001b[38;5;124m'\u001b[39m : [\u001b[38;5;241m1\u001b[39m,\u001b[38;5;241m2\u001b[39m,\u001b[38;5;241m4\u001b[39m],\n\u001b[1;32m    452\u001b[0m                              \u001b[38;5;124m'\u001b[39m\u001b[38;5;124mbootstrap\u001b[39m\u001b[38;5;124m'\u001b[39m : [\u001b[38;5;28;01mTrue\u001b[39;00m,\u001b[38;5;28;01mFalse\u001b[39;00m]}}\n\u001b[0;32m--> 454\u001b[0m \u001b[38;5;28mself\u001b[39m\u001b[38;5;241m.\u001b[39mbest_model, \u001b[38;5;28mself\u001b[39m\u001b[38;5;241m.\u001b[39mbest_params, \u001b[38;5;28mself\u001b[39m\u001b[38;5;241m.\u001b[39mbest_score \u001b[38;5;241m=\u001b[39m \u001b[38;5;28;43mself\u001b[39;49m\u001b[38;5;241;43m.\u001b[39;49m\u001b[43mperform_tuning\u001b[49m\u001b[43m(\u001b[49m\u001b[43m)\u001b[49m\n",
      "File \u001b[0;32m~/Documents/DataSciBC/EPLTransfer/models/original_dataset/ensamble_model.py:470\u001b[0m, in \u001b[0;36mhyperparameter_tuning.perform_tuning\u001b[0;34m(self)\u001b[0m\n\u001b[1;32m    466\u001b[0m model_M_type \u001b[38;5;241m=\u001b[39m random\u001b[38;5;241m.\u001b[39mchoice(\u001b[38;5;28mself\u001b[39m\u001b[38;5;241m.\u001b[39mmodels)\n\u001b[1;32m    467\u001b[0m model_F_type \u001b[38;5;241m=\u001b[39m random\u001b[38;5;241m.\u001b[39mchoice(\u001b[38;5;28mself\u001b[39m\u001b[38;5;241m.\u001b[39mmodels)\n\u001b[0;32m--> 470\u001b[0m param_G \u001b[38;5;241m=\u001b[39m {key : random\u001b[38;5;241m.\u001b[39mchoice(values) \u001b[38;5;28;01mfor\u001b[39;00m key,values \u001b[38;5;129;01min\u001b[39;00m \u001b[38;5;28;43mself\u001b[39;49m\u001b[38;5;241;43m.\u001b[39;49m\u001b[43mparameters\u001b[49m\u001b[43m[\u001b[49m\u001b[43mmodel_G_type\u001b[49m\u001b[43m]\u001b[49m\u001b[38;5;241m.\u001b[39mitems()}\n\u001b[1;32m    471\u001b[0m param_D \u001b[38;5;241m=\u001b[39m {key : random\u001b[38;5;241m.\u001b[39mchoice(values) \u001b[38;5;28;01mfor\u001b[39;00m key,values \u001b[38;5;129;01min\u001b[39;00m \u001b[38;5;28mself\u001b[39m\u001b[38;5;241m.\u001b[39mparameters[model_D_type]\u001b[38;5;241m.\u001b[39mitems()}\n\u001b[1;32m    472\u001b[0m param_M \u001b[38;5;241m=\u001b[39m {key : random\u001b[38;5;241m.\u001b[39mchoice(values) \u001b[38;5;28;01mfor\u001b[39;00m key,values \u001b[38;5;129;01min\u001b[39;00m \u001b[38;5;28mself\u001b[39m\u001b[38;5;241m.\u001b[39mparameters[model_M_type]\u001b[38;5;241m.\u001b[39mitems()}\n",
      "\u001b[0;31mKeyError\u001b[0m: 'ELASTICR'"
     ]
    }
   ],
   "source": [
    "# Lets try some hyperparameter tuning:\n",
    "\n",
    "hp = em.hyperparameter_tuning(train,n_iter=1,cv=2)\n",
    "display(hp.best_params, hp.best_score)"
   ]
  }
 ],
 "metadata": {
  "kernelspec": {
   "display_name": "EPL",
   "language": "python",
   "name": "python3"
  },
  "language_info": {
   "codemirror_mode": {
    "name": "ipython",
    "version": 3
   },
   "file_extension": ".py",
   "mimetype": "text/x-python",
   "name": "python",
   "nbconvert_exporter": "python",
   "pygments_lexer": "ipython3",
   "version": "3.12.6"
  }
 },
 "nbformat": 4,
 "nbformat_minor": 2
}
