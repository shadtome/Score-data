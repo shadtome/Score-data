{
 "cells": [
  {
   "cell_type": "code",
   "execution_count": 22,
   "metadata": {},
   "outputs": [],
   "source": [
    "import importlib\n",
    "import numpy as np\n",
    "import matplotlib.pyplot as plt\n",
    "import pandas as pd\n",
    "import ensamble_model as em\n",
    "importlib.reload(em)\n",
    "\n",
    "# Train Data\n",
    "fd = '../../data/main_data/train/train.csv'\n",
    "train = pd.read_csv(fd)\n",
    "\n",
    "# Test Data\n",
    "fd = '../../data/main_data/test/test.csv'\n",
    "test = pd.read_csv(fd)"
   ]
  },
  {
   "cell_type": "code",
   "execution_count": 23,
   "metadata": {},
   "outputs": [
    {
     "name": "stdout",
     "output_type": "stream",
     "text": [
      "MSE for train: mean: 49961930100825.71 std: 1766190834328.662\n",
      "MSE for test:  mean: 52623128336151.76  std: 16157787424203.045\n",
      "\n",
      "RMSE for train: mean: 7067261.791999064 std: 125462.60070582716\n",
      "RMSE for test: mean: 7167938.0340295015 std: 1115254.5343844378\n",
      "\n",
      "R^2 for train: mean: 0.4080075808979379 std: 0.006344560557093116\n",
      "R^2 for test: mean: 0.3709262457835678 std: 0.07693190732989633\n",
      "\n",
      "MAE for train: mean: 3607039.4571535764 std: 52779.976526211336\n",
      "MAE for test: mean: 3660546.333153973 std: 185378.77754387652\n",
      "\n",
      "MAPE for train: mean: 4.104013257779082 std: 0.05894752588706118\n",
      "MAPE for test: mean: 4.1451680329698934 std: 0.5716244798784486\n",
      "\n"
     ]
    }
   ],
   "source": [
    "general = em.general_Regression(train,type='LR')\n",
    "general.perform_CV()"
   ]
  },
  {
   "cell_type": "code",
   "execution_count": 24,
   "metadata": {},
   "outputs": [
    {
     "name": "stdout",
     "output_type": "stream",
     "text": [
      "MSE for train: mean: 61683219833298.81 std: 2219945018031.943\n",
      "MSE for test:  mean: 62205878727569.86  std: 20011922777712.785\n",
      "\n",
      "RMSE for train: mean: 7852586.7440355215 std: 141778.91485141055\n",
      "RMSE for test: mean: 7783601.32705945 std: 1273353.4894004185\n",
      "\n",
      "R^2 for train: mean: 0.2691621147664784 std: 0.0052409632861336675\n",
      "R^2 for test: mean: 0.2639280823504907 std: 0.05308575164317294\n",
      "\n",
      "MAE for train: mean: 3838273.851915125 std: 54560.33622877767\n",
      "MAE for test: mean: 3851011.914504575 std: 252278.20128958815\n",
      "\n",
      "MAPE for train: mean: 4.717831190395815 std: 0.07551720201912203\n",
      "MAPE for test: mean: 4.728688995878598 std: 0.5542047421151353\n",
      "\n"
     ]
    }
   ],
   "source": [
    "g_model = em.G_Pos(train)\n",
    "g_model.perform_CV()\n"
   ]
  },
  {
   "cell_type": "code",
   "execution_count": 25,
   "metadata": {},
   "outputs": [
    {
     "name": "stdout",
     "output_type": "stream",
     "text": [
      "MSE for train: mean: 50544228181063.92 std: 1802962172237.9333\n",
      "MSE for test:  mean: 53121591192881.555  std: 16483703522198.58\n",
      "\n",
      "RMSE for train: mean: 7108305.294912612 std: 127373.52700318863\n",
      "RMSE for test: mean: 7200370.978870483 std: 1129711.892263365\n",
      "\n",
      "R^2 for train: mean: 0.40111617463962174 std: 0.006332628828309911\n",
      "R^2 for test: mean: 0.3656441369508611 std: 0.07528484299740598\n",
      "\n",
      "MAE for train: mean: 3610349.5081242 std: 51834.37294181964\n",
      "MAE for test: mean: 3659425.1013683877 std: 192222.99592860552\n",
      "\n",
      "MAPE for train: mean: 4.061381454039268 std: 0.056254552993016876\n",
      "MAPE for test: mean: 4.094471598801382 std: 0.5632261402184444\n",
      "\n"
     ]
    }
   ],
   "source": [
    "d_model = em.D_Pos(train)\n",
    "d_model.perform_CV()"
   ]
  },
  {
   "cell_type": "code",
   "execution_count": 26,
   "metadata": {},
   "outputs": [
    {
     "name": "stdout",
     "output_type": "stream",
     "text": [
      "MSE for train: mean: 50294405634312.64 std: 1784796950948.8962\n",
      "MSE for test:  mean: 52895234591291.83  std: 16316294433226.521\n",
      "\n",
      "RMSE for train: mean: 7090728.837536447 std: 126373.20460311424\n",
      "RMSE for test: mean: 7185767.778406923 std: 1122486.5371578664\n",
      "\n",
      "R^2 for train: mean: 0.40407152347115005 std: 0.006349294850707546\n",
      "R^2 for test: mean: 0.36796804976146796 std: 0.07650070079951457\n",
      "\n",
      "MAE for train: mean: 3603893.397093645 std: 51871.309000422945\n",
      "MAE for test: mean: 3654779.804799214 std: 186489.74129049366\n",
      "\n",
      "MAPE for train: mean: 4.0574758598876555 std: 0.05661994647567225\n",
      "MAPE for test: mean: 4.094595715678373 std: 0.5810236718762408\n",
      "\n"
     ]
    }
   ],
   "source": [
    "m_model = em.M_Pos(train)\n",
    "m_model.perform_CV()"
   ]
  },
  {
   "cell_type": "code",
   "execution_count": 27,
   "metadata": {},
   "outputs": [
    {
     "name": "stdout",
     "output_type": "stream",
     "text": [
      "MSE for train: mean: 50544228181063.92 std: 1802962172237.9333\n",
      "MSE for test:  mean: 53121591192881.555  std: 16483703522198.58\n",
      "\n",
      "RMSE for train: mean: 7108305.294912612 std: 127373.52700318863\n",
      "RMSE for test: mean: 7200370.978870483 std: 1129711.892263365\n",
      "\n",
      "R^2 for train: mean: 0.40111617463962174 std: 0.006332628828309911\n",
      "R^2 for test: mean: 0.3656441369508611 std: 0.07528484299740598\n",
      "\n",
      "MAE for train: mean: 3610349.5081242 std: 51834.37294181964\n",
      "MAE for test: mean: 3659425.1013683877 std: 192222.99592860552\n",
      "\n",
      "MAPE for train: mean: 4.061381454039268 std: 0.056254552993016876\n",
      "MAPE for test: mean: 4.094471598801382 std: 0.5632261402184444\n",
      "\n"
     ]
    }
   ],
   "source": [
    "f_model = em.F_Pos(train)\n",
    "f_model.perform_CV()"
   ]
  },
  {
   "cell_type": "code",
   "execution_count": 28,
   "metadata": {},
   "outputs": [
    {
     "name": "stdout",
     "output_type": "stream",
     "text": [
      "MSE for train: mean: 29674801715010.555 std: 700102755682.1744\n",
      "MSE for test:  mean: 45316381330991.14  std: 12272450191124.229\n",
      "\n",
      "RMSE for train: mean: 5447080.901465674 std: 64119.94930182105\n",
      "RMSE for test: mean: 6668236.609650835 std: 922497.6144703458\n",
      "\n",
      "R^2 for train: mean: 0.648193170367599 std: 0.00791282257691419\n",
      "R^2 for test: mean: 0.4500907616196875 std: 0.0858599513817586\n",
      "\n",
      "MAE for train: mean: 2828261.4205231033 std: 29713.891527175423\n",
      "MAE for test: mean: 3108693.0573365036 std: 186784.95954778223\n",
      "\n",
      "MAPE for train: mean: 2.901775574776822 std: 0.03917859138747805\n",
      "MAPE for test: mean: 3.0313595630893926 std: 0.3297499332395882\n",
      "\n"
     ]
    }
   ],
   "source": [
    "ensamble = em.ensamble_model()\n",
    "ensamble.perform_CV(train)"
   ]
  }
 ],
 "metadata": {
  "kernelspec": {
   "display_name": "EPL",
   "language": "python",
   "name": "python3"
  },
  "language_info": {
   "codemirror_mode": {
    "name": "ipython",
    "version": 3
   },
   "file_extension": ".py",
   "mimetype": "text/x-python",
   "name": "python",
   "nbconvert_exporter": "python",
   "pygments_lexer": "ipython3",
   "version": "3.12.6"
  }
 },
 "nbformat": 4,
 "nbformat_minor": 2
}
