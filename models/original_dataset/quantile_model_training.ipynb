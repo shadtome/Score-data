{
 "cells": [
  {
   "cell_type": "code",
   "execution_count": 56,
   "metadata": {},
   "outputs": [],
   "source": [
    "import importlib\n",
    "import numpy as np\n",
    "import matplotlib.pyplot as plt\n",
    "import pandas as pd\n",
    "import quantile_models as qm\n",
    "importlib.reload(qm)\n",
    "\n",
    "# Train Data\n",
    "fd = '../../data/main_data/train/train.csv'\n",
    "train = pd.read_csv(fd)\n",
    "\n",
    "# Test data\n",
    "fd = '../../data/main_data/test/test.csv'\n",
    "test = pd.read_csv(fd)\n"
   ]
  },
  {
   "cell_type": "code",
   "execution_count": 59,
   "metadata": {},
   "outputs": [
    {
     "name": "stdout",
     "output_type": "stream",
     "text": [
      "MSE for train: mean: 66918549322021.266 std: 2405321543300.4307\n",
      "MSE for test:  mean: 67281512378335.875  std: 20904706870237.977\n",
      "\n",
      "RMSE for train: mean: 8179049.360972037 std: 147312.16108714344\n",
      "RMSE for test: mean: 8101240.750992658 std: 1285072.2441916622\n",
      "\n",
      "R^2 for train: mean: 0.20712731267223466 std: 0.00600607190155961\n",
      "R^2 for test: mean: 0.2012032428907126 std: 0.06047175046425255\n",
      "\n",
      "MAE for train: mean: 3651405.029560703 std: 45461.79316524364\n",
      "MAE for test: mean: 3662708.3751105205 std: 284191.3421862867\n",
      "\n",
      "MAPE for train: mean: 3.287600226489239 std: 0.02842119549488238\n",
      "MAPE for test: mean: 3.291863136771833 std: 0.31136773973262427\n",
      "\n"
     ]
    }
   ],
   "source": [
    "np.set_printoptions(suppress=True)\n",
    "qclass = qm.quantile_Regression(train,quantile=.75)\n",
    "qclass.perform_CV()"
   ]
  }
 ],
 "metadata": {
  "kernelspec": {
   "display_name": "EPL",
   "language": "python",
   "name": "python3"
  },
  "language_info": {
   "codemirror_mode": {
    "name": "ipython",
    "version": 3
   },
   "file_extension": ".py",
   "mimetype": "text/x-python",
   "name": "python",
   "nbconvert_exporter": "python",
   "pygments_lexer": "ipython3",
   "version": "3.12.6"
  }
 },
 "nbformat": 4,
 "nbformat_minor": 2
}
