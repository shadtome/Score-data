{
 "cells": [
  {
   "cell_type": "code",
   "execution_count": 116,
   "metadata": {},
   "outputs": [],
   "source": [
    "import importlib\n",
    "import numpy as np\n",
    "import matplotlib.pyplot as plt\n",
    "import pandas as pd\n",
    "\n",
    "import seaborn as sns\n",
    "import matplotlib.pyplot as plt\n",
    "import os\n",
    "from sklearn.metrics import root_mean_squared_error\n",
    "\n",
    "import sys\n",
    "parent_dir = os.path.dirname(os.path.abspath(''))\n",
    "sys.path.insert(0,parent_dir)\n",
    "import ensamble_model as em\n",
    "importlib.reload(em)\n",
    "\n",
    "\n",
    "# Train Data\n",
    "fd = '../../../data/main_data/train/train_cutoff.csv'\n",
    "train = pd.read_csv(fd)\n",
    "\n",
    "# Test Data\n",
    "fd = '../../../data/main_data/test/test_cutoff.csv'\n",
    "test = pd.read_csv(fd)\n",
    "\n",
    "save_dir = '../../saved_models'"
   ]
  },
  {
   "cell_type": "code",
   "execution_count": 117,
   "metadata": {},
   "outputs": [
    {
     "name": "stdout",
     "output_type": "stream",
     "text": [
      "6011\n",
      "1503\n"
     ]
    }
   ],
   "source": [
    "print(len(train))\n",
    "print(len(test))"
   ]
  },
  {
   "cell_type": "markdown",
   "metadata": {},
   "source": [
    "## This is a description of how the ensamble model works and what it is doing under all of the code\n",
    "\n",
    "The general object below is just a general_Regression object that can be changed to any model, like linear regression, Lasso, Ridge, decision tree, random forest, gradient boost regression.  You can also put in the parameters for these in the **kwargs argument, it will deal with it correctly with the names, for example max_depth=6 in a decision tree.\n"
   ]
  },
  {
   "cell_type": "code",
   "execution_count": 118,
   "metadata": {},
   "outputs": [
    {
     "name": "stdout",
     "output_type": "stream",
     "text": [
      "MSE for train: mean: 72623706803699.4 std: 2413695924086.635\n",
      "MSE for test:  mean: 77501261875826.39  std: 22760098913673.71\n",
      "\n",
      "RMSE for train: mean: 8520761.749524457 std: 142569.32187639058\n",
      "RMSE for test: mean: 8714154.806232417 std: 1250906.826603359\n",
      "\n",
      "R^2 for train: mean: 0.4334621876499688 std: 0.0045068307776851045\n",
      "R^2 for test: mean: 0.39327084690586595 std: 0.06310300984290591\n",
      "\n",
      "MAE for train: mean: 4796817.121966213 std: 59314.125736769354\n",
      "MAE for test: mean: 4895717.32982328 std: 336564.6058878954\n",
      "\n",
      "MAPE for train: mean: 3.8548940676970567 std: 0.05706196357699374\n",
      "MAPE for test: mean: 3.9102106581527742 std: 0.34207215293176607\n",
      "\n"
     ]
    }
   ],
   "source": [
    "# Baseline model, what we want to beat!\n",
    "\n",
    "general = em.general_Regression(train,type='LR')\n",
    "general.perform_CV()"
   ]
  },
  {
   "cell_type": "code",
   "execution_count": null,
   "metadata": {},
   "outputs": [],
   "source": []
  },
  {
   "cell_type": "code",
   "execution_count": 119,
   "metadata": {},
   "outputs": [
    {
     "data": {
      "text/html": [
       "<div>\n",
       "<style scoped>\n",
       "    .dataframe tbody tr th:only-of-type {\n",
       "        vertical-align: middle;\n",
       "    }\n",
       "\n",
       "    .dataframe tbody tr th {\n",
       "        vertical-align: top;\n",
       "    }\n",
       "\n",
       "    .dataframe thead th {\n",
       "        text-align: right;\n",
       "    }\n",
       "</style>\n",
       "<table border=\"1\" class=\"dataframe\">\n",
       "  <thead>\n",
       "    <tr style=\"text-align: right;\">\n",
       "      <th></th>\n",
       "      <th>name</th>\n",
       "      <th>dob</th>\n",
       "      <th>pos</th>\n",
       "      <th>height</th>\n",
       "      <th>foot</th>\n",
       "      <th>date</th>\n",
       "      <th>market_value</th>\n",
       "      <th>adjusted_market_value</th>\n",
       "      <th>team</th>\n",
       "      <th>league</th>\n",
       "      <th>...</th>\n",
       "      <th>accuratePass</th>\n",
       "      <th>accurateLongBalls</th>\n",
       "      <th>accurateCross</th>\n",
       "      <th>accurateKeeperSweeper</th>\n",
       "      <th>expectedAssists</th>\n",
       "      <th>expectedGoals</th>\n",
       "      <th>xGChain</th>\n",
       "      <th>xGBuildup</th>\n",
       "      <th>pred</th>\n",
       "      <th>residual</th>\n",
       "    </tr>\n",
       "  </thead>\n",
       "  <tbody>\n",
       "    <tr>\n",
       "      <th>0</th>\n",
       "      <td>carlos kameni</td>\n",
       "      <td>1984-02-17</td>\n",
       "      <td>G</td>\n",
       "      <td>186.0</td>\n",
       "      <td>right</td>\n",
       "      <td>2017-05-21</td>\n",
       "      <td>2000000.0</td>\n",
       "      <td>2604836</td>\n",
       "      <td>Málaga</td>\n",
       "      <td>LaLiga</td>\n",
       "      <td>...</td>\n",
       "      <td>11.901408</td>\n",
       "      <td>6.788732</td>\n",
       "      <td>0.000000</td>\n",
       "      <td>0.563380</td>\n",
       "      <td>0.000282</td>\n",
       "      <td>0.000000</td>\n",
       "      <td>0.051594</td>\n",
       "      <td>0.051312</td>\n",
       "      <td>-2.138496e+06</td>\n",
       "      <td>4.743332e+06</td>\n",
       "    </tr>\n",
       "    <tr>\n",
       "      <th>1</th>\n",
       "      <td>lirim qamili</td>\n",
       "      <td>1998-06-03</td>\n",
       "      <td>F</td>\n",
       "      <td>191.0</td>\n",
       "      <td>left</td>\n",
       "      <td>2024-10-20</td>\n",
       "      <td>450000.0</td>\n",
       "      <td>450000</td>\n",
       "      <td>Sønderjyske Fodbold</td>\n",
       "      <td>Superligaen</td>\n",
       "      <td>...</td>\n",
       "      <td>10.578125</td>\n",
       "      <td>0.390625</td>\n",
       "      <td>0.218750</td>\n",
       "      <td>0.000000</td>\n",
       "      <td>0.000000</td>\n",
       "      <td>0.000000</td>\n",
       "      <td>0.000000</td>\n",
       "      <td>0.000000</td>\n",
       "      <td>5.104281e+06</td>\n",
       "      <td>-4.654281e+06</td>\n",
       "    </tr>\n",
       "    <tr>\n",
       "      <th>2</th>\n",
       "      <td>emil bohinen</td>\n",
       "      <td>1999-03-11</td>\n",
       "      <td>M</td>\n",
       "      <td>185.0</td>\n",
       "      <td>left</td>\n",
       "      <td>2024-10-05</td>\n",
       "      <td>1800000.0</td>\n",
       "      <td>1800000</td>\n",
       "      <td>Genoa</td>\n",
       "      <td>Serie A</td>\n",
       "      <td>...</td>\n",
       "      <td>17.648148</td>\n",
       "      <td>0.555556</td>\n",
       "      <td>0.148148</td>\n",
       "      <td>0.000000</td>\n",
       "      <td>0.017047</td>\n",
       "      <td>0.008154</td>\n",
       "      <td>0.085681</td>\n",
       "      <td>0.068493</td>\n",
       "      <td>4.078096e+06</td>\n",
       "      <td>-2.278096e+06</td>\n",
       "    </tr>\n",
       "    <tr>\n",
       "      <th>3</th>\n",
       "      <td>odysseus velanas</td>\n",
       "      <td>1998-06-04</td>\n",
       "      <td>M</td>\n",
       "      <td>180.0</td>\n",
       "      <td>right</td>\n",
       "      <td>2024-10-20</td>\n",
       "      <td>750000.0</td>\n",
       "      <td>750000</td>\n",
       "      <td>PEC Zwolle</td>\n",
       "      <td>Eredivisie</td>\n",
       "      <td>...</td>\n",
       "      <td>13.441860</td>\n",
       "      <td>0.441860</td>\n",
       "      <td>0.395349</td>\n",
       "      <td>0.000000</td>\n",
       "      <td>0.105608</td>\n",
       "      <td>0.130114</td>\n",
       "      <td>0.000000</td>\n",
       "      <td>0.000000</td>\n",
       "      <td>8.322521e+05</td>\n",
       "      <td>-8.225213e+04</td>\n",
       "    </tr>\n",
       "    <tr>\n",
       "      <th>4</th>\n",
       "      <td>paulo vitor</td>\n",
       "      <td>1988-11-20</td>\n",
       "      <td>G</td>\n",
       "      <td>195.0</td>\n",
       "      <td>right</td>\n",
       "      <td>2023-05-27</td>\n",
       "      <td>200000.0</td>\n",
       "      <td>211267</td>\n",
       "      <td>Chaves</td>\n",
       "      <td>Liga Portugal Betclic</td>\n",
       "      <td>...</td>\n",
       "      <td>18.484848</td>\n",
       "      <td>5.575758</td>\n",
       "      <td>0.000000</td>\n",
       "      <td>0.575758</td>\n",
       "      <td>0.000000</td>\n",
       "      <td>0.000000</td>\n",
       "      <td>0.000000</td>\n",
       "      <td>0.000000</td>\n",
       "      <td>-1.234949e+06</td>\n",
       "      <td>1.446216e+06</td>\n",
       "    </tr>\n",
       "  </tbody>\n",
       "</table>\n",
       "<p>5 rows × 57 columns</p>\n",
       "</div>"
      ],
      "text/plain": [
       "               name         dob pos  height   foot        date  market_value  \\\n",
       "0     carlos kameni  1984-02-17   G   186.0  right  2017-05-21     2000000.0   \n",
       "1      lirim qamili  1998-06-03   F   191.0   left  2024-10-20      450000.0   \n",
       "2      emil bohinen  1999-03-11   M   185.0   left  2024-10-05     1800000.0   \n",
       "3  odysseus velanas  1998-06-04   M   180.0  right  2024-10-20      750000.0   \n",
       "4       paulo vitor  1988-11-20   G   195.0  right  2023-05-27      200000.0   \n",
       "\n",
       "   adjusted_market_value                 team                 league  ...  \\\n",
       "0                2604836               Málaga                 LaLiga  ...   \n",
       "1                 450000  Sønderjyske Fodbold            Superligaen  ...   \n",
       "2                1800000                Genoa                Serie A  ...   \n",
       "3                 750000           PEC Zwolle             Eredivisie  ...   \n",
       "4                 211267               Chaves  Liga Portugal Betclic  ...   \n",
       "\n",
       "   accuratePass  accurateLongBalls  accurateCross  accurateKeeperSweeper  \\\n",
       "0     11.901408           6.788732       0.000000               0.563380   \n",
       "1     10.578125           0.390625       0.218750               0.000000   \n",
       "2     17.648148           0.555556       0.148148               0.000000   \n",
       "3     13.441860           0.441860       0.395349               0.000000   \n",
       "4     18.484848           5.575758       0.000000               0.575758   \n",
       "\n",
       "   expectedAssists  expectedGoals   xGChain  xGBuildup          pred  \\\n",
       "0         0.000282       0.000000  0.051594   0.051312 -2.138496e+06   \n",
       "1         0.000000       0.000000  0.000000   0.000000  5.104281e+06   \n",
       "2         0.017047       0.008154  0.085681   0.068493  4.078096e+06   \n",
       "3         0.105608       0.130114  0.000000   0.000000  8.322521e+05   \n",
       "4         0.000000       0.000000  0.000000   0.000000 -1.234949e+06   \n",
       "\n",
       "       residual  \n",
       "0  4.743332e+06  \n",
       "1 -4.654281e+06  \n",
       "2 -2.278096e+06  \n",
       "3 -8.225213e+04  \n",
       "4  1.446216e+06  \n",
       "\n",
       "[5 rows x 57 columns]"
      ]
     },
     "execution_count": 119,
     "metadata": {},
     "output_type": "execute_result"
    }
   ],
   "source": [
    "# experiment and look at the residuals and predictions:\n",
    "bl_train = train.copy()\n",
    "bl_train['pred'] = general.predict(bl_train)\n",
    "bl_train['residual'] = bl_train[general.target] - bl_train['pred']\n",
    "bl_train.head()"
   ]
  },
  {
   "cell_type": "code",
   "execution_count": 120,
   "metadata": {},
   "outputs": [
    {
     "data": {
      "image/png": "[encoded data removed]",
      "text/plain": [
       "<Figure size 640x480 with 1 Axes>"
      ]
     },
     "metadata": {},
     "output_type": "display_data"
    }
   ],
   "source": [
    "# lets look at the distribution of the target:\n",
    "sns.histplot(bl_train,x='pred')\n",
    "plt.show()"
   ]
  },
  {
   "cell_type": "code",
   "execution_count": 121,
   "metadata": {},
   "outputs": [],
   "source": [
    "# So we are getting negative numbers, this is not good!"
   ]
  },
  {
   "cell_type": "code",
   "execution_count": 122,
   "metadata": {},
   "outputs": [
    {
     "name": "stdout",
     "output_type": "stream",
     "text": [
      "MSE for train: mean: 0.6861307182104541 std: 0.004523339287404927\n",
      "MSE for test:  mean: 0.7073770125460588  std: 0.042086824833923356\n",
      "\n",
      "RMSE for train: mean: 0.8283255786690047 std: 0.0027301892082625514\n",
      "RMSE for test: mean: 0.8406855111412088 std: 0.02499767795822991\n",
      "\n",
      "R^2 for train: mean: 0.6215238494694159 std: 0.0026665629554456457\n",
      "R^2 for test: mean: 0.6087982911870997 std: 0.024948490575936955\n",
      "\n",
      "MAE for train: mean: 0.6582628236652279 std: 0.0028065033233199165\n",
      "MAE for test: mean: 0.6667729403013316 std: 0.022230136849317017\n",
      "\n",
      "MAPE for train: mean: 0.04570257726215997 std: 0.0001805049310807804\n",
      "MAPE for test: mean: 0.04627086197460625 std: 0.0013962440361431454\n",
      "\n"
     ]
    }
   ],
   "source": [
    "# Baseline model, what we want to beat! With log(1+x)\n",
    "\n",
    "general = em.general_Regression(train,type='LR', scale='log')\n",
    "general.perform_CV()"
   ]
  },
  {
   "cell_type": "code",
   "execution_count": 123,
   "metadata": {},
   "outputs": [
    {
     "data": {
      "text/html": [
       "<div>\n",
       "<style scoped>\n",
       "    .dataframe tbody tr th:only-of-type {\n",
       "        vertical-align: middle;\n",
       "    }\n",
       "\n",
       "    .dataframe tbody tr th {\n",
       "        vertical-align: top;\n",
       "    }\n",
       "\n",
       "    .dataframe thead th {\n",
       "        text-align: right;\n",
       "    }\n",
       "</style>\n",
       "<table border=\"1\" class=\"dataframe\">\n",
       "  <thead>\n",
       "    <tr style=\"text-align: right;\">\n",
       "      <th></th>\n",
       "      <th>name</th>\n",
       "      <th>dob</th>\n",
       "      <th>pos</th>\n",
       "      <th>height</th>\n",
       "      <th>foot</th>\n",
       "      <th>date</th>\n",
       "      <th>market_value</th>\n",
       "      <th>adjusted_market_value</th>\n",
       "      <th>team</th>\n",
       "      <th>league</th>\n",
       "      <th>...</th>\n",
       "      <th>accuratePass</th>\n",
       "      <th>accurateLongBalls</th>\n",
       "      <th>accurateCross</th>\n",
       "      <th>accurateKeeperSweeper</th>\n",
       "      <th>expectedAssists</th>\n",
       "      <th>expectedGoals</th>\n",
       "      <th>xGChain</th>\n",
       "      <th>xGBuildup</th>\n",
       "      <th>pred</th>\n",
       "      <th>residual</th>\n",
       "    </tr>\n",
       "  </thead>\n",
       "  <tbody>\n",
       "    <tr>\n",
       "      <th>0</th>\n",
       "      <td>carlos kameni</td>\n",
       "      <td>1984-02-17</td>\n",
       "      <td>G</td>\n",
       "      <td>186.0</td>\n",
       "      <td>right</td>\n",
       "      <td>2017-05-21</td>\n",
       "      <td>2000000.0</td>\n",
       "      <td>14.772881</td>\n",
       "      <td>Málaga</td>\n",
       "      <td>LaLiga</td>\n",
       "      <td>...</td>\n",
       "      <td>11.901408</td>\n",
       "      <td>6.788732</td>\n",
       "      <td>0.000000</td>\n",
       "      <td>0.563380</td>\n",
       "      <td>0.000282</td>\n",
       "      <td>0.000000</td>\n",
       "      <td>0.051594</td>\n",
       "      <td>0.051312</td>\n",
       "      <td>13.213109</td>\n",
       "      <td>-10.454817</td>\n",
       "    </tr>\n",
       "    <tr>\n",
       "      <th>1</th>\n",
       "      <td>lirim qamili</td>\n",
       "      <td>1998-06-03</td>\n",
       "      <td>F</td>\n",
       "      <td>191.0</td>\n",
       "      <td>left</td>\n",
       "      <td>2024-10-20</td>\n",
       "      <td>450000.0</td>\n",
       "      <td>13.017005</td>\n",
       "      <td>Sønderjyske Fodbold</td>\n",
       "      <td>Superligaen</td>\n",
       "      <td>...</td>\n",
       "      <td>10.578125</td>\n",
       "      <td>0.390625</td>\n",
       "      <td>0.218750</td>\n",
       "      <td>0.000000</td>\n",
       "      <td>0.000000</td>\n",
       "      <td>0.000000</td>\n",
       "      <td>0.000000</td>\n",
       "      <td>0.000000</td>\n",
       "      <td>14.137490</td>\n",
       "      <td>-11.497219</td>\n",
       "    </tr>\n",
       "    <tr>\n",
       "      <th>2</th>\n",
       "      <td>emil bohinen</td>\n",
       "      <td>1999-03-11</td>\n",
       "      <td>M</td>\n",
       "      <td>185.0</td>\n",
       "      <td>left</td>\n",
       "      <td>2024-10-05</td>\n",
       "      <td>1800000.0</td>\n",
       "      <td>14.403298</td>\n",
       "      <td>Genoa</td>\n",
       "      <td>Serie A</td>\n",
       "      <td>...</td>\n",
       "      <td>17.648148</td>\n",
       "      <td>0.555556</td>\n",
       "      <td>0.148148</td>\n",
       "      <td>0.000000</td>\n",
       "      <td>0.017047</td>\n",
       "      <td>0.008154</td>\n",
       "      <td>0.085681</td>\n",
       "      <td>0.068493</td>\n",
       "      <td>14.300941</td>\n",
       "      <td>-11.566359</td>\n",
       "    </tr>\n",
       "    <tr>\n",
       "      <th>3</th>\n",
       "      <td>odysseus velanas</td>\n",
       "      <td>1998-06-04</td>\n",
       "      <td>M</td>\n",
       "      <td>180.0</td>\n",
       "      <td>right</td>\n",
       "      <td>2024-10-20</td>\n",
       "      <td>750000.0</td>\n",
       "      <td>13.527830</td>\n",
       "      <td>PEC Zwolle</td>\n",
       "      <td>Eredivisie</td>\n",
       "      <td>...</td>\n",
       "      <td>13.441860</td>\n",
       "      <td>0.441860</td>\n",
       "      <td>0.395349</td>\n",
       "      <td>0.000000</td>\n",
       "      <td>0.105608</td>\n",
       "      <td>0.130114</td>\n",
       "      <td>0.000000</td>\n",
       "      <td>0.000000</td>\n",
       "      <td>14.375393</td>\n",
       "      <td>-11.699327</td>\n",
       "    </tr>\n",
       "    <tr>\n",
       "      <th>4</th>\n",
       "      <td>paulo vitor</td>\n",
       "      <td>1988-11-20</td>\n",
       "      <td>G</td>\n",
       "      <td>195.0</td>\n",
       "      <td>right</td>\n",
       "      <td>2023-05-27</td>\n",
       "      <td>200000.0</td>\n",
       "      <td>12.260883</td>\n",
       "      <td>Chaves</td>\n",
       "      <td>Liga Portugal Betclic</td>\n",
       "      <td>...</td>\n",
       "      <td>18.484848</td>\n",
       "      <td>5.575758</td>\n",
       "      <td>0.000000</td>\n",
       "      <td>0.575758</td>\n",
       "      <td>0.000000</td>\n",
       "      <td>0.000000</td>\n",
       "      <td>0.000000</td>\n",
       "      <td>0.000000</td>\n",
       "      <td>13.056294</td>\n",
       "      <td>-10.471475</td>\n",
       "    </tr>\n",
       "  </tbody>\n",
       "</table>\n",
       "<p>5 rows × 57 columns</p>\n",
       "</div>"
      ],
      "text/plain": [
       "               name         dob pos  height   foot        date  market_value  \\\n",
       "0     carlos kameni  1984-02-17   G   186.0  right  2017-05-21     2000000.0   \n",
       "1      lirim qamili  1998-06-03   F   191.0   left  2024-10-20      450000.0   \n",
       "2      emil bohinen  1999-03-11   M   185.0   left  2024-10-05     1800000.0   \n",
       "3  odysseus velanas  1998-06-04   M   180.0  right  2024-10-20      750000.0   \n",
       "4       paulo vitor  1988-11-20   G   195.0  right  2023-05-27      200000.0   \n",
       "\n",
       "   adjusted_market_value                 team                 league  ...  \\\n",
       "0              14.772881               Málaga                 LaLiga  ...   \n",
       "1              13.017005  Sønderjyske Fodbold            Superligaen  ...   \n",
       "2              14.403298                Genoa                Serie A  ...   \n",
       "3              13.527830           PEC Zwolle             Eredivisie  ...   \n",
       "4              12.260883               Chaves  Liga Portugal Betclic  ...   \n",
       "\n",
       "   accuratePass  accurateLongBalls  accurateCross  accurateKeeperSweeper  \\\n",
       "0     11.901408           6.788732       0.000000               0.563380   \n",
       "1     10.578125           0.390625       0.218750               0.000000   \n",
       "2     17.648148           0.555556       0.148148               0.000000   \n",
       "3     13.441860           0.441860       0.395349               0.000000   \n",
       "4     18.484848           5.575758       0.000000               0.575758   \n",
       "\n",
       "   expectedAssists  expectedGoals   xGChain  xGBuildup       pred   residual  \n",
       "0         0.000282       0.000000  0.051594   0.051312  13.213109 -10.454817  \n",
       "1         0.000000       0.000000  0.000000   0.000000  14.137490 -11.497219  \n",
       "2         0.017047       0.008154  0.085681   0.068493  14.300941 -11.566359  \n",
       "3         0.105608       0.130114  0.000000   0.000000  14.375393 -11.699327  \n",
       "4         0.000000       0.000000  0.000000   0.000000  13.056294 -10.471475  \n",
       "\n",
       "[5 rows x 57 columns]"
      ]
     },
     "execution_count": 123,
     "metadata": {},
     "output_type": "execute_result"
    }
   ],
   "source": [
    "# experiment and look at the residuals and predictions:\n",
    "bl_train = train.copy()\n",
    "bl_train['adjusted_market_value'] = general.scale_target(bl_train['adjusted_market_value'])\n",
    "bl_train['pred'] = general.predict(bl_train)\n",
    "bl_train['residual'] = general.scale_target(bl_train[general.target]) - bl_train['pred']\n",
    "bl_train.head()"
   ]
  },
  {
   "cell_type": "code",
   "execution_count": 124,
   "metadata": {},
   "outputs": [
    {
     "data": {
      "image/png": "[encoded data removed]",
      "text/plain": [
       "<Figure size 640x480 with 1 Axes>"
      ]
     },
     "metadata": {},
     "output_type": "display_data"
    }
   ],
   "source": [
    "# lets look at the distribution of the target:\n",
    "fig,ax = plt.subplots()\n",
    "sns.histplot(bl_train,x='pred',label='Predicted Values')\n",
    "sns.histplot(bl_train,x='adjusted_market_value',alpha=0.3,label='True Values')\n",
    "plt.legend()\n",
    "plt.show()"
   ]
  },
  {
   "cell_type": "code",
   "execution_count": 125,
   "metadata": {},
   "outputs": [
    {
     "data": {
      "image/png": "[encoded data removed]",
      "text/plain": [
       "<Figure size 640x480 with 1 Axes>"
      ]
     },
     "metadata": {},
     "output_type": "display_data"
    }
   ],
   "source": [
    "x = np.linspace(10,20)\n",
    "fig,ax = plt.subplots()\n",
    "sns.scatterplot(bl_train,x='pred',y='adjusted_market_value',ax=ax)\n",
    "plt.plot(x,x,color='red',linestyle='--')\n",
    "plt.show()"
   ]
  },
  {
   "cell_type": "code",
   "execution_count": 126,
   "metadata": {},
   "outputs": [
    {
     "name": "stdout",
     "output_type": "stream",
     "text": [
      "0.8289452014619593\n"
     ]
    }
   ],
   "source": [
    "# Train RMSE\n",
    "y_train = general.scale_target(train['adjusted_market_value'])\n",
    "y_pred = general.predict(train)\n",
    "print(root_mean_squared_error(y_train,y_pred))"
   ]
  },
  {
   "cell_type": "code",
   "execution_count": 127,
   "metadata": {},
   "outputs": [
    {
     "name": "stdout",
     "output_type": "stream",
     "text": [
      "0.850469401915584\n"
     ]
    }
   ],
   "source": [
    "# Test RMSE\n",
    "y_test = general.scale_target(test['adjusted_market_value'])\n",
    "y_pred = general.predict(test)\n",
    "print(root_mean_squared_error(y_test,y_pred))"
   ]
  },
  {
   "cell_type": "code",
   "execution_count": 128,
   "metadata": {},
   "outputs": [
    {
     "name": "stdout",
     "output_type": "stream",
     "text": [
      "g-position:\n",
      " RMSE train: 0.8874176970583811\n",
      "d-position:\n",
      " RMSE train: 0.788362141968143\n"
     ]
    },
    {
     "name": "stdout",
     "output_type": "stream",
     "text": [
      "m-position:\n",
      " RMSE train: 0.8270333973764842\n",
      "d-position:\n",
      " RMSE train: 0.8766757514138285\n"
     ]
    }
   ],
   "source": [
    " #How is this for each position on train?\n",
    "\n",
    "# G \n",
    "g_pos = train[train['pos'] == 'G']\n",
    "\n",
    "y_g_true =general.scale_target(g_pos['adjusted_market_value'])\n",
    "y_g_pred = general.predict(g_pos)\n",
    "\n",
    "print(f'g-position:\\n RMSE train: {root_mean_squared_error(y_g_true,y_g_pred)}')\n",
    "\n",
    "# D \n",
    "d_pos = train[train['pos'] == 'D']\n",
    "\n",
    "y_d_true = general.scale_target(d_pos['adjusted_market_value'])\n",
    "y_d_pred = general.predict(d_pos)\n",
    "\n",
    "print(f'd-position:\\n RMSE train: {root_mean_squared_error(y_d_true,y_d_pred)}')\n",
    "\n",
    "# M \n",
    "m_pos = train[train['pos'] == 'M']\n",
    "\n",
    "y_m_true = general.scale_target(m_pos['adjusted_market_value'])\n",
    "y_m_pred = general.predict(m_pos)\n",
    "\n",
    "print(f'm-position:\\n RMSE train: {root_mean_squared_error(y_m_true,y_m_pred)}')\n",
    "\n",
    "# F \n",
    "f_pos = train[train['pos'] == 'F']\n",
    "\n",
    "y_f_true = general.scale_target(f_pos['adjusted_market_value'])\n",
    "y_f_pred = general.predict(f_pos)\n",
    "\n",
    "\n",
    "print(f'd-position:\\n RMSE train: {root_mean_squared_error(y_f_true,y_f_pred)}')"
   ]
  },
  {
   "cell_type": "code",
   "execution_count": 129,
   "metadata": {},
   "outputs": [
    {
     "name": "stdout",
     "output_type": "stream",
     "text": [
      "g-position:\n",
      " RMSE train: 0.8112317018714869\n",
      "d-position:\n",
      " RMSE train: 0.8575963793551753\n",
      "m-position:\n",
      " RMSE train: 0.8412157735436403\n",
      "d-position:\n",
      " RMSE train: 0.8705211016617872\n"
     ]
    }
   ],
   "source": [
    "# How is this for each position on test?\n",
    "\n",
    "# G \n",
    "g_pos = test[test['pos'] == 'G']\n",
    "\n",
    "y_g_true =general.scale_target(g_pos['adjusted_market_value'])\n",
    "y_g_pred = general.predict(g_pos)\n",
    "\n",
    "print(f'g-position:\\n RMSE train: {root_mean_squared_error(y_g_true,y_g_pred)}')\n",
    "\n",
    "# D \n",
    "d_pos = test[test['pos'] == 'D']\n",
    "\n",
    "y_d_true = general.scale_target(d_pos['adjusted_market_value'])\n",
    "y_d_pred = general.predict(d_pos)\n",
    "\n",
    "print(f'd-position:\\n RMSE train: {root_mean_squared_error(y_d_true,y_d_pred)}')\n",
    "\n",
    "# M \n",
    "m_pos = test[test['pos'] == 'M']\n",
    "\n",
    "y_m_true = general.scale_target(m_pos['adjusted_market_value'])\n",
    "y_m_pred = general.predict(m_pos)\n",
    "\n",
    "print(f'm-position:\\n RMSE train: {root_mean_squared_error(y_m_true,y_m_pred)}')\n",
    "\n",
    "# F \n",
    "f_pos = test[test['pos'] == 'F']\n",
    "\n",
    "y_f_true = general.scale_target(f_pos['adjusted_market_value'])\n",
    "y_f_pred = general.predict(f_pos)\n",
    "\n",
    "\n",
    "print(f'd-position:\\n RMSE train: {root_mean_squared_error(y_f_true,y_f_pred)}')"
   ]
  },
  {
   "cell_type": "code",
   "execution_count": 130,
   "metadata": {},
   "outputs": [
    {
     "name": "stdout",
     "output_type": "stream",
     "text": [
      "MSE for train: mean: 1.5966074189598303 std: 0.009141108716175144\n",
      "MSE for test:  mean: 1.5979163841994732  std: 0.06927865084072748\n",
      "\n",
      "RMSE for train: mean: 1.263564148579801 std: 0.0036140536289140796\n",
      "RMSE for test: mean: 1.2637944644587107 std: 0.027201761027445752\n",
      "\n",
      "R^2 for train: mean: 0.11930465741508756 std: 0.003952623864645737\n",
      "R^2 for test: mean: 0.11727686459030226 std: 0.0070859542374029595\n",
      "\n",
      "MAE for train: mean: 1.0182875502216289 std: 0.002823975954491414\n",
      "MAE for test: mean: 1.0186840304328009 std: 0.017737999144257725\n",
      "\n",
      "MAPE for train: mean: 0.070345017915285 std: 0.00017794005245808962\n",
      "MAPE for test: mean: 0.07037240952080728 std: 0.001050271409197301\n",
      "\n"
     ]
    }
   ],
   "source": [
    "# Lets look Ridge Regression.\n",
    "lasso_gen = em.general_Regression(train,scale='log',type='LASSO',alpha=0.5)\n",
    "lasso_gen.perform_CV()"
   ]
  },
  {
   "cell_type": "code",
   "execution_count": 131,
   "metadata": {},
   "outputs": [
    {
     "name": "stdout",
     "output_type": "stream",
     "text": [
      "MSE for train: mean: 0.6869045812572308 std: 0.004530036875362882\n",
      "MSE for test:  mean: 0.707938341829249  std: 0.04234866164214492\n",
      "\n",
      "RMSE for train: mean: 0.828792564181477 std: 0.0027325472956850508\n",
      "RMSE for test: mean: 0.8410143116163761 std: 0.025164846228061134\n",
      "\n",
      "R^2 for train: mean: 0.6210971534816715 std: 0.002645294978881644\n",
      "R^2 for test: mean: 0.6085089430139756 std: 0.024799119779975173\n",
      "\n",
      "MAE for train: mean: 0.6586193786104388 std: 0.002855996843179518\n",
      "MAE for test: mean: 0.6668093880301988 std: 0.022314605089524698\n",
      "\n",
      "MAPE for train: mean: 0.04572458062474171 std: 0.00018382123433298946\n",
      "MAPE for test: mean: 0.04627135603856043 std: 0.001397094825020697\n",
      "\n"
     ]
    }
   ],
   "source": [
    "# Lets look Ridge Regression.\n",
    "ridge_gen = em.general_Regression(train,scale='log',type='RIDGE',alpha=0.5)\n",
    "ridge_gen.perform_CV()"
   ]
  },
  {
   "cell_type": "code",
   "execution_count": 132,
   "metadata": {},
   "outputs": [
    {
     "name": "stdout",
     "output_type": "stream",
     "text": [
      "MSE for train: mean: 0.6861301144421516 std: 0.004523352822430607\n",
      "MSE for test:  mean: 0.7073726175141555  std: 0.042091706563841175\n",
      "\n",
      "RMSE for train: mean: 0.8283252141872849 std: 0.0027301984799944236\n",
      "RMSE for test: mean: 0.840682806206676 std: 0.025000737241608405\n",
      "\n",
      "R^2 for train: mean: 0.621524182275415 std: 0.002666603163490385\n",
      "R^2 for test: mean: 0.608800796094833 std: 0.02495001702810034\n",
      "\n",
      "MAE for train: mean: 0.6582624755715026 std: 0.0028061118702626437\n",
      "MAE for test: mean: 0.6667699304154582 std: 0.02223162891918684\n",
      "\n",
      "MAPE for train: mean: 0.04570255109570322 std: 0.00018046904891217715\n",
      "MAPE for test: mean: 0.0462706449209021 std: 0.0013963186862114305\n",
      "\n"
     ]
    }
   ],
   "source": [
    "# PCA with linear regression\n",
    "pca_gen = em.general_Regression(train,scale='log',type='PCA_LR')\n",
    "pca_gen.perform_CV()"
   ]
  },
  {
   "cell_type": "code",
   "execution_count": 133,
   "metadata": {},
   "outputs": [
    {
     "name": "stdout",
     "output_type": "stream",
     "text": [
      "MSE for train: mean: 0.6880908900382113 std: 0.0045286874933805465\n",
      "MSE for test:  mean: 0.7085165348777737  std: 0.04226791537739734\n",
      "\n",
      "RMSE for train: mean: 0.8295079515619392 std: 0.002729163558116325\n",
      "RMSE for test: mean: 0.8413592045640425 std: 0.025124167113267294\n",
      "\n",
      "R^2 for train: mean: 0.6204429229680677 std: 0.002623349154843306\n",
      "R^2 for test: mean: 0.6081946510722399 std: 0.02469505332854876\n",
      "\n",
      "MAE for train: mean: 0.6595661794921783 std: 0.002840679507113544\n",
      "MAE for test: mean: 0.6674133455630658 std: 0.022040128515583585\n",
      "\n",
      "MAPE for train: mean: 0.04578508676417929 std: 0.00018269511462738796\n",
      "MAPE for test: mean: 0.04630836996836855 std: 0.0013769143967152719\n",
      "\n"
     ]
    }
   ],
   "source": [
    "# PCA with linear regression\n",
    "pca_ridge_gen = em.general_Regression(train,scale='log',type='PCA_RIDGE',alpha=5)\n",
    "pca_ridge_gen.perform_CV()"
   ]
  },
  {
   "cell_type": "code",
   "execution_count": 134,
   "metadata": {},
   "outputs": [
    {
     "name": "stdout",
     "output_type": "stream",
     "text": [
      "MSE for train: mean: 0.47212023726705665 std: 0.0067119971103131015\n",
      "MSE for test:  mean: 0.6029231057257294  std: 0.05524338634235491\n",
      "\n",
      "RMSE for train: mean: 0.687092664552369 std: 0.004889538360884128\n",
      "RMSE for test: mean: 0.7756405224558934 std: 0.03612320099434884\n",
      "\n",
      "R^2 for train: mean: 0.7395782864556832 std: 0.0034583296613508994\n",
      "R^2 for test: mean: 0.6667762443765715 std: 0.029568343177912675\n",
      "\n",
      "MAE for train: mean: 0.5379240240754883 std: 0.004066171590011714\n",
      "MAE for test: mean: 0.6065411379493783 std: 0.028904840530331953\n",
      "\n",
      "MAPE for train: mean: 0.037310934105496206 std: 0.000294830132631494\n",
      "MAPE for test: mean: 0.041992483601966765 std: 0.001973758747080499\n",
      "\n"
     ]
    }
   ],
   "source": [
    "# Finally, lets try a GBR model on the whole feature space:\n",
    "\n",
    "GBR_general = em.general_Regression(train,scale='log',type='GBR',max_depth= 2, n_estimators= 40, min_samples_split= 10, min_samples_leaf= 2, bootstrap= True)\n",
    "GBR_general.perform_CV()"
   ]
  },
  {
   "cell_type": "code",
   "execution_count": 135,
   "metadata": {},
   "outputs": [
    {
     "data": {
      "text/html": [
       "<div>\n",
       "<style scoped>\n",
       "    .dataframe tbody tr th:only-of-type {\n",
       "        vertical-align: middle;\n",
       "    }\n",
       "\n",
       "    .dataframe tbody tr th {\n",
       "        vertical-align: top;\n",
       "    }\n",
       "\n",
       "    .dataframe thead th {\n",
       "        text-align: right;\n",
       "    }\n",
       "</style>\n",
       "<table border=\"1\" class=\"dataframe\">\n",
       "  <thead>\n",
       "    <tr style=\"text-align: right;\">\n",
       "      <th></th>\n",
       "      <th>name</th>\n",
       "      <th>dob</th>\n",
       "      <th>pos</th>\n",
       "      <th>height</th>\n",
       "      <th>foot</th>\n",
       "      <th>date</th>\n",
       "      <th>market_value</th>\n",
       "      <th>adjusted_market_value</th>\n",
       "      <th>team</th>\n",
       "      <th>league</th>\n",
       "      <th>...</th>\n",
       "      <th>accuratePass</th>\n",
       "      <th>accurateLongBalls</th>\n",
       "      <th>accurateCross</th>\n",
       "      <th>accurateKeeperSweeper</th>\n",
       "      <th>expectedAssists</th>\n",
       "      <th>expectedGoals</th>\n",
       "      <th>xGChain</th>\n",
       "      <th>xGBuildup</th>\n",
       "      <th>pred</th>\n",
       "      <th>residual</th>\n",
       "    </tr>\n",
       "  </thead>\n",
       "  <tbody>\n",
       "    <tr>\n",
       "      <th>0</th>\n",
       "      <td>carlos kameni</td>\n",
       "      <td>1984-02-17</td>\n",
       "      <td>G</td>\n",
       "      <td>186.0</td>\n",
       "      <td>right</td>\n",
       "      <td>2017-05-21</td>\n",
       "      <td>2000000.0</td>\n",
       "      <td>14.772881</td>\n",
       "      <td>Málaga</td>\n",
       "      <td>LaLiga</td>\n",
       "      <td>...</td>\n",
       "      <td>11.901408</td>\n",
       "      <td>6.788732</td>\n",
       "      <td>0.000000</td>\n",
       "      <td>0.563380</td>\n",
       "      <td>0.000282</td>\n",
       "      <td>0.000000</td>\n",
       "      <td>0.051594</td>\n",
       "      <td>0.051312</td>\n",
       "      <td>13.821754</td>\n",
       "      <td>-11.063462</td>\n",
       "    </tr>\n",
       "    <tr>\n",
       "      <th>1</th>\n",
       "      <td>lirim qamili</td>\n",
       "      <td>1998-06-03</td>\n",
       "      <td>F</td>\n",
       "      <td>191.0</td>\n",
       "      <td>left</td>\n",
       "      <td>2024-10-20</td>\n",
       "      <td>450000.0</td>\n",
       "      <td>13.017005</td>\n",
       "      <td>Sønderjyske Fodbold</td>\n",
       "      <td>Superligaen</td>\n",
       "      <td>...</td>\n",
       "      <td>10.578125</td>\n",
       "      <td>0.390625</td>\n",
       "      <td>0.218750</td>\n",
       "      <td>0.000000</td>\n",
       "      <td>0.000000</td>\n",
       "      <td>0.000000</td>\n",
       "      <td>0.000000</td>\n",
       "      <td>0.000000</td>\n",
       "      <td>13.654239</td>\n",
       "      <td>-11.013968</td>\n",
       "    </tr>\n",
       "    <tr>\n",
       "      <th>2</th>\n",
       "      <td>emil bohinen</td>\n",
       "      <td>1999-03-11</td>\n",
       "      <td>M</td>\n",
       "      <td>185.0</td>\n",
       "      <td>left</td>\n",
       "      <td>2024-10-05</td>\n",
       "      <td>1800000.0</td>\n",
       "      <td>14.403298</td>\n",
       "      <td>Genoa</td>\n",
       "      <td>Serie A</td>\n",
       "      <td>...</td>\n",
       "      <td>17.648148</td>\n",
       "      <td>0.555556</td>\n",
       "      <td>0.148148</td>\n",
       "      <td>0.000000</td>\n",
       "      <td>0.017047</td>\n",
       "      <td>0.008154</td>\n",
       "      <td>0.085681</td>\n",
       "      <td>0.068493</td>\n",
       "      <td>14.417272</td>\n",
       "      <td>-11.682691</td>\n",
       "    </tr>\n",
       "    <tr>\n",
       "      <th>3</th>\n",
       "      <td>odysseus velanas</td>\n",
       "      <td>1998-06-04</td>\n",
       "      <td>M</td>\n",
       "      <td>180.0</td>\n",
       "      <td>right</td>\n",
       "      <td>2024-10-20</td>\n",
       "      <td>750000.0</td>\n",
       "      <td>13.527830</td>\n",
       "      <td>PEC Zwolle</td>\n",
       "      <td>Eredivisie</td>\n",
       "      <td>...</td>\n",
       "      <td>13.441860</td>\n",
       "      <td>0.441860</td>\n",
       "      <td>0.395349</td>\n",
       "      <td>0.000000</td>\n",
       "      <td>0.105608</td>\n",
       "      <td>0.130114</td>\n",
       "      <td>0.000000</td>\n",
       "      <td>0.000000</td>\n",
       "      <td>14.089674</td>\n",
       "      <td>-11.413608</td>\n",
       "    </tr>\n",
       "    <tr>\n",
       "      <th>4</th>\n",
       "      <td>paulo vitor</td>\n",
       "      <td>1988-11-20</td>\n",
       "      <td>G</td>\n",
       "      <td>195.0</td>\n",
       "      <td>right</td>\n",
       "      <td>2023-05-27</td>\n",
       "      <td>200000.0</td>\n",
       "      <td>12.260883</td>\n",
       "      <td>Chaves</td>\n",
       "      <td>Liga Portugal Betclic</td>\n",
       "      <td>...</td>\n",
       "      <td>18.484848</td>\n",
       "      <td>5.575758</td>\n",
       "      <td>0.000000</td>\n",
       "      <td>0.575758</td>\n",
       "      <td>0.000000</td>\n",
       "      <td>0.000000</td>\n",
       "      <td>0.000000</td>\n",
       "      <td>0.000000</td>\n",
       "      <td>12.952702</td>\n",
       "      <td>-10.367883</td>\n",
       "    </tr>\n",
       "  </tbody>\n",
       "</table>\n",
       "<p>5 rows × 57 columns</p>\n",
       "</div>"
      ],
      "text/plain": [
       "               name         dob pos  height   foot        date  market_value  \\\n",
       "0     carlos kameni  1984-02-17   G   186.0  right  2017-05-21     2000000.0   \n",
       "1      lirim qamili  1998-06-03   F   191.0   left  2024-10-20      450000.0   \n",
       "2      emil bohinen  1999-03-11   M   185.0   left  2024-10-05     1800000.0   \n",
       "3  odysseus velanas  1998-06-04   M   180.0  right  2024-10-20      750000.0   \n",
       "4       paulo vitor  1988-11-20   G   195.0  right  2023-05-27      200000.0   \n",
       "\n",
       "   adjusted_market_value                 team                 league  ...  \\\n",
       "0              14.772881               Málaga                 LaLiga  ...   \n",
       "1              13.017005  Sønderjyske Fodbold            Superligaen  ...   \n",
       "2              14.403298                Genoa                Serie A  ...   \n",
       "3              13.527830           PEC Zwolle             Eredivisie  ...   \n",
       "4              12.260883               Chaves  Liga Portugal Betclic  ...   \n",
       "\n",
       "   accuratePass  accurateLongBalls  accurateCross  accurateKeeperSweeper  \\\n",
       "0     11.901408           6.788732       0.000000               0.563380   \n",
       "1     10.578125           0.390625       0.218750               0.000000   \n",
       "2     17.648148           0.555556       0.148148               0.000000   \n",
       "3     13.441860           0.441860       0.395349               0.000000   \n",
       "4     18.484848           5.575758       0.000000               0.575758   \n",
       "\n",
       "   expectedAssists  expectedGoals   xGChain  xGBuildup       pred   residual  \n",
       "0         0.000282       0.000000  0.051594   0.051312  13.821754 -11.063462  \n",
       "1         0.000000       0.000000  0.000000   0.000000  13.654239 -11.013968  \n",
       "2         0.017047       0.008154  0.085681   0.068493  14.417272 -11.682691  \n",
       "3         0.105608       0.130114  0.000000   0.000000  14.089674 -11.413608  \n",
       "4         0.000000       0.000000  0.000000   0.000000  12.952702 -10.367883  \n",
       "\n",
       "[5 rows x 57 columns]"
      ]
     },
     "execution_count": 135,
     "metadata": {},
     "output_type": "execute_result"
    }
   ],
   "source": [
    "# experiment and look at the residuals and predictions:\n",
    "gbr_train = train.copy()\n",
    "gbr_train['adjusted_market_value'] = GBR_general.scale_target(gbr_train['adjusted_market_value'])\n",
    "gbr_train['pred'] = GBR_general.predict(gbr_train)\n",
    "gbr_train['residual'] = GBR_general.scale_target(gbr_train[general.target]) - gbr_train['pred']\n",
    "gbr_train.head()"
   ]
  },
  {
   "cell_type": "code",
   "execution_count": 136,
   "metadata": {},
   "outputs": [
    {
     "data": {
      "image/png": "[encoded data removed]",
      "text/plain": [
       "<Figure size 640x480 with 1 Axes>"
      ]
     },
     "metadata": {},
     "output_type": "display_data"
    }
   ],
   "source": [
    "# lets look at the distribution of the target:\n",
    "fig,ax = plt.subplots()\n",
    "sns.histplot(gbr_train,x='pred',label='Predicted Values')\n",
    "sns.histplot(gbr_train,x='adjusted_market_value',alpha=0.3, label='True Values')\n",
    "plt.legend()\n",
    "plt.show()"
   ]
  },
  {
   "cell_type": "code",
   "execution_count": 137,
   "metadata": {},
   "outputs": [
    {
     "data": {
      "image/png": "[encoded data removed]",
      "text/plain": [
       "<Figure size 640x480 with 1 Axes>"
      ]
     },
     "metadata": {},
     "output_type": "display_data"
    }
   ],
   "source": [
    "x = np.linspace(10,20)\n",
    "fig,ax = plt.subplots()\n",
    "sns.scatterplot(gbr_train,x='pred',y='adjusted_market_value')\n",
    "plt.plot(x,x,color='red',linestyle='--')\n",
    "plt.show()"
   ]
  },
  {
   "cell_type": "code",
   "execution_count": 138,
   "metadata": {},
   "outputs": [
    {
     "name": "stdout",
     "output_type": "stream",
     "text": [
      "0.6893169377412588\n"
     ]
    }
   ],
   "source": [
    "# Train RMSE\n",
    "y_train = GBR_general.scale_target(train['adjusted_market_value'])\n",
    "y_pred = GBR_general.predict(train)\n",
    "print(root_mean_squared_error(y_train,y_pred))"
   ]
  },
  {
   "cell_type": "code",
   "execution_count": 139,
   "metadata": {},
   "outputs": [
    {
     "name": "stdout",
     "output_type": "stream",
     "text": [
      "0.8040315844090907\n"
     ]
    }
   ],
   "source": [
    "# Test RMSE\n",
    "y_test = GBR_general.scale_target(test['adjusted_market_value'])\n",
    "y_pred = GBR_general.predict(test)\n",
    "print(root_mean_squared_error(y_test,y_pred))"
   ]
  },
  {
   "cell_type": "code",
   "execution_count": 140,
   "metadata": {},
   "outputs": [
    {
     "name": "stdout",
     "output_type": "stream",
     "text": [
      "g-position:\n",
      " RMSE train: 0.7355871852086927\n"
     ]
    },
    {
     "name": "stdout",
     "output_type": "stream",
     "text": [
      "d-position:\n",
      " RMSE train: 0.6599119426005148\n",
      "m-position:\n",
      " RMSE train: 0.7082347757770723\n",
      "d-position:\n",
      " RMSE train: 0.6843838013861401\n"
     ]
    }
   ],
   "source": [
    "# How is this for each position on train?\n",
    "\n",
    "# G \n",
    "g_pos = train[train['pos'] == 'G']\n",
    "\n",
    "y_g_true =GBR_general.scale_target(g_pos['adjusted_market_value'])\n",
    "y_g_pred = GBR_general.predict(g_pos)\n",
    "\n",
    "print(f'g-position:\\n RMSE train: {root_mean_squared_error(y_g_true,y_g_pred)}')\n",
    "\n",
    "# D \n",
    "d_pos = train[train['pos'] == 'D']\n",
    "\n",
    "y_d_true = GBR_general.scale_target(d_pos['adjusted_market_value'])\n",
    "y_d_pred = GBR_general.predict(d_pos)\n",
    "\n",
    "print(f'd-position:\\n RMSE train: {root_mean_squared_error(y_d_true,y_d_pred)}')\n",
    "\n",
    "# M \n",
    "m_pos = train[train['pos'] == 'M']\n",
    "\n",
    "y_m_true = GBR_general.scale_target(m_pos['adjusted_market_value'])\n",
    "y_m_pred = GBR_general.predict(m_pos)\n",
    "\n",
    "print(f'm-position:\\n RMSE train: {root_mean_squared_error(y_m_true,y_m_pred)}')\n",
    "\n",
    "# F \n",
    "f_pos = train[train['pos'] == 'F']\n",
    "\n",
    "y_f_true = GBR_general.scale_target(f_pos['adjusted_market_value'])\n",
    "y_f_pred = GBR_general.predict(f_pos)\n",
    "\n",
    "\n",
    "print(f'd-position:\\n RMSE train: {root_mean_squared_error(y_f_true,y_f_pred)}')"
   ]
  },
  {
   "cell_type": "code",
   "execution_count": 141,
   "metadata": {},
   "outputs": [
    {
     "name": "stdout",
     "output_type": "stream",
     "text": [
      "g-position:\n",
      " RMSE train: 0.785135300130637\n"
     ]
    },
    {
     "name": "stdout",
     "output_type": "stream",
     "text": [
      "d-position:\n",
      " RMSE train: 0.8226787635264582\n",
      "m-position:\n",
      " RMSE train: 0.8102379208663982\n",
      "d-position:\n",
      " RMSE train: 0.765588714232707\n"
     ]
    }
   ],
   "source": [
    "# How is this for each position on test?\n",
    "\n",
    "# G \n",
    "g_pos = test[test['pos'] == 'G']\n",
    "\n",
    "y_g_true =GBR_general.scale_target(g_pos['adjusted_market_value'])\n",
    "y_g_pred = GBR_general.predict(g_pos)\n",
    "\n",
    "print(f'g-position:\\n RMSE train: {root_mean_squared_error(y_g_true,y_g_pred)}')\n",
    "\n",
    "# D \n",
    "d_pos = test[test['pos'] == 'D']\n",
    "\n",
    "y_d_true = GBR_general.scale_target(d_pos['adjusted_market_value'])\n",
    "y_d_pred = GBR_general.predict(d_pos)\n",
    "\n",
    "print(f'd-position:\\n RMSE train: {root_mean_squared_error(y_d_true,y_d_pred)}')\n",
    "\n",
    "# M \n",
    "m_pos = test[test['pos'] == 'M']\n",
    "\n",
    "y_m_true = GBR_general.scale_target(m_pos['adjusted_market_value'])\n",
    "y_m_pred = GBR_general.predict(m_pos)\n",
    "\n",
    "print(f'm-position:\\n RMSE train: {root_mean_squared_error(y_m_true,y_m_pred)}')\n",
    "\n",
    "# F \n",
    "f_pos = test[test['pos'] == 'F']\n",
    "\n",
    "y_f_true = GBR_general.scale_target(f_pos['adjusted_market_value'])\n",
    "y_f_pred = GBR_general.predict(f_pos)\n",
    "\n",
    "\n",
    "print(f'd-position:\\n RMSE train: {root_mean_squared_error(y_f_true,y_f_pred)}')"
   ]
  },
  {
   "cell_type": "code",
   "execution_count": null,
   "metadata": {},
   "outputs": [],
   "source": [
    "# Lets do Hyperparameter tuning on just all of the features.\n",
    "gen_hp = em.hyperparameter_tuning_general(train,n_iter=100,cv=3,scale='log',beta=3,model=em.general_Regression)\n",
    "print(gen_hp.best_params)\n",
    "print(gen_hp.best_score)"
   ]
  },
  {
   "cell_type": "code",
   "execution_count": null,
   "metadata": {},
   "outputs": [],
   "source": [
    "gen_hp.best_model.perform_CV()"
   ]
  },
  {
   "cell_type": "markdown",
   "metadata": {},
   "source": [
    "#### Furthermore, lets look at how each of the variables "
   ]
  },
  {
   "cell_type": "markdown",
   "metadata": {},
   "source": [
    "### Position models\n",
    "The classes G_Pos, D_Pos, M_Pos, F_Pos, are inherited classes of the general_Regression model above, but specificalyly designed to take in X that only correspond to its position.   If you look at the code in ensamble_mode.py, you can see what features it has for each position, which is what it is using for its model.  Since this is inherits the code from general_Regression, it has all the features of that class."
   ]
  },
  {
   "cell_type": "markdown",
   "metadata": {},
   "source": [
    "#### Model for Goalkeepers"
   ]
  },
  {
   "cell_type": "code",
   "execution_count": 143,
   "metadata": {},
   "outputs": [
    {
     "name": "stdout",
     "output_type": "stream",
     "text": [
      "MSE for train: mean: 0.9207258770937875 std: 0.005956879398309816\n",
      "MSE for test:  mean: 0.928558562844826  std: 0.05392857633172286\n",
      "\n",
      "RMSE for train: mean: 0.9595396115618368 std: 0.003100151213605531\n",
      "RMSE for test: mean: 0.9632001086686698 std: 0.028356895201850175\n",
      "\n",
      "R^2 for train: mean: 0.4921189166987028 std: 0.0035321549345760862\n",
      "R^2 for test: mean: 0.4864472311337725 std: 0.03200811125628821\n",
      "\n",
      "MAE for train: mean: 0.7699104737536547 std: 0.0027122031041347523\n",
      "MAE for test: mean: 0.7732108977615658 std: 0.024686570956864443\n",
      "\n",
      "MAPE for train: mean: 0.05334493050689211 std: 0.00019031450086156654\n",
      "MAPE for test: mean: 0.05357250679744983 std: 0.0017197697162513422\n",
      "\n"
     ]
    }
   ],
   "source": [
    "#base line model for the G-position\n",
    "g_model = em.G_Pos(train, scale = 'log')\n",
    "g_model.perform_CV()\n"
   ]
  },
  {
   "cell_type": "code",
   "execution_count": null,
   "metadata": {},
   "outputs": [
    {
     "name": "stdout",
     "output_type": "stream",
     "text": [
      "0.9654560190891792\n",
      "{'model': 'RFR', 'param': {'max_depth': 6, 'n_estimators': 80, 'max_features': 0.75, 'min_samples_split': 2, 'min_samples_leaf': 2, 'bootstrap': True}}\n"
     ]
    }
   ],
   "source": [
    "g_hp = em.hyperparameter_tuning_general(train,n_iter=100,cv=3,scale='log',beta=2,model=em.G_Pos)\n",
    "print(g_hp.best_score)\n",
    "print(g_hp.best_params)"
   ]
  },
  {
   "cell_type": "code",
   "execution_count": 157,
   "metadata": {},
   "outputs": [
    {
     "name": "stdout",
     "output_type": "stream",
     "text": [
      "MSE for train: mean: 0.5989013997456173 std: 0.006841884749436154\n",
      "MSE for test:  mean: 0.7402647868322203  std: 0.05793309264674911\n",
      "\n",
      "RMSE for train: mean: 0.7738745855791481 std: 0.004418771358555253\n",
      "RMSE for test: mean: 0.8597168551706724 std: 0.03393693810097331\n",
      "\n",
      "R^2 for train: mean: 0.6712649543519278 std: 0.004020217766022703\n",
      "R^2 for test: mean: 0.5915873754291955 std: 0.032241798760107264\n",
      "\n",
      "MAE for train: mean: 0.6130106969536885 std: 0.004294997244921597\n",
      "MAE for test: mean: 0.6781350395743663 std: 0.029378796560374128\n",
      "\n",
      "MAPE for train: mean: 0.04240007655660107 std: 0.00028393506581299093\n",
      "MAPE for test: mean: 0.04684152164166127 std: 0.0019172176407402962\n",
      "\n"
     ]
    }
   ],
   "source": [
    "# Checking better model from hyperparameter tuning\n",
    "g_hp.best_model.perform_CV()"
   ]
  },
  {
   "cell_type": "code",
   "execution_count": 158,
   "metadata": {},
   "outputs": [],
   "source": [
    "em.save_general(save_dir,'cutoff_general','G',g_hp.best_params,g_hp.best_score,RMSE_train=g_hp.best_RMSE_train,RMSE_test=g_hp.best_RMSE_test)"
   ]
  },
  {
   "cell_type": "code",
   "execution_count": 159,
   "metadata": {},
   "outputs": [
    {
     "name": "stdout",
     "output_type": "stream",
     "text": [
      "MSE for train: mean: 0.5953214482136024 std: 0.007693493718912121\n",
      "MSE for test:  mean: 0.6964036946100272  std: 0.053705375169702904\n",
      "\n",
      "RMSE for train: mean: 0.7715547859736158 std: 0.0049659294004585465\n",
      "RMSE for test: mean: 0.8338781751335826 std: 0.032417335577026134\n",
      "\n",
      "R^2 for train: mean: 0.671621452775469 std: 0.0037945537642185656\n",
      "R^2 for test: mean: 0.6154199148584206 std: 0.022946274250540907\n",
      "\n",
      "MAE for train: mean: 0.6046899706372414 std: 0.004231348094375177\n",
      "MAE for test: mean: 0.6521139666879778 std: 0.026452924729826993\n",
      "\n",
      "MAPE for train: mean: 0.04184535043521167 std: 0.0002758976674693843\n",
      "MAPE for test: mean: 0.045013787044680065 std: 0.0017595506615701057\n",
      "\n"
     ]
    }
   ],
   "source": [
    "# Test a random model:\n",
    "g_specific = em.G_Pos(train,type='GBR',scale='log',max_depth=2,n_estimators=30,min_samples_split=2,min_samples_leaf=6,bootstrap=True)\n",
    "g_specific.perform_CV()"
   ]
  },
  {
   "cell_type": "code",
   "execution_count": 148,
   "metadata": {},
   "outputs": [
    {
     "name": "stdout",
     "output_type": "stream",
     "text": [
      "MSE for train: mean: 0.7057247314314697 std: 0.00479125877284175\n",
      "MSE for test:  mean: 0.7255950858168165  std: 0.04499106295694216\n",
      "\n",
      "RMSE for train: mean: 0.8400694052040519 std: 0.0028505914439118144\n",
      "RMSE for test: mean: 0.8514084578303877 std: 0.0264333832813263\n",
      "\n",
      "R^2 for train: mean: 0.6107165800829629 std: 0.0026758295241951398\n",
      "R^2 for test: mean: 0.5988079254393133 std: 0.025321430051611065\n",
      "\n",
      "MAE for train: mean: 0.6646579719441167 std: 0.0029992095846301282\n",
      "MAE for test: mean: 0.6720521157984667 std: 0.022888107127931136\n",
      "\n",
      "MAPE for train: mean: 0.046106381022880005 std: 0.00019271659004994527\n",
      "MAPE for test: mean: 0.04659661465123342 std: 0.0014166244664757337\n",
      "\n"
     ]
    }
   ],
   "source": [
    "# baseline model for the D-position\n",
    "d_model = em.D_Pos(train,scale='log')\n",
    "d_model.perform_CV()"
   ]
  },
  {
   "cell_type": "code",
   "execution_count": null,
   "metadata": {},
   "outputs": [
    {
     "name": "stdout",
     "output_type": "stream",
     "text": [
      "0.8983307155826595\n",
      "{'model': 'RIDGE', 'param': {'alpha': np.float64(9.612244897959183)}}\n"
     ]
    }
   ],
   "source": [
    "# Lets look at the D-position and try to make it better.\n",
    "#from hypertuning, it looks like random forest regressor works well\n",
    "\n",
    "d_hp = em.hyperparameter_tuning_general(train,n_iter=100,cv=3,scale='log',beta=2,model=em.D_Pos)\n",
    "print(d_hp.best_score)\n",
    "print(d_hp.best_params)"
   ]
  },
  {
   "cell_type": "code",
   "execution_count": 150,
   "metadata": {},
   "outputs": [
    {
     "name": "stdout",
     "output_type": "stream",
     "text": [
      "MSE for train: mean: 0.7029940569088327 std: 0.006548724461348023\n",
      "MSE for test:  mean: 0.7209228554991837  std: 0.05881844223795256\n",
      "\n",
      "RMSE for train: mean: 0.8384382908588645 std: 0.00391015734964024\n",
      "RMSE for test: mean: 0.8483776409997363 std: 0.03432540969756918\n",
      "\n",
      "R^2 for train: mean: 0.6141387432816823 std: 0.002855240938139548\n",
      "R^2 for test: mean: 0.6025940639292021 std: 0.027073120503639605\n",
      "\n",
      "MAE for train: mean: 0.6647466601951553 std: 0.0033252442405929516\n",
      "MAE for test: mean: 0.6722951335839524 std: 0.029036168472643543\n",
      "\n",
      "MAPE for train: mean: 0.04613185791273246 std: 0.0002223716647455127\n",
      "MAPE for test: mean: 0.046636450209853915 std: 0.0017921349161667199\n",
      "\n"
     ]
    }
   ],
   "source": [
    "d_hp.best_model.perform_CV()"
   ]
  },
  {
   "cell_type": "code",
   "execution_count": 151,
   "metadata": {},
   "outputs": [],
   "source": [
    "em.save_general(save_dir,'cutoff_general','D',d_hp.best_params,d_hp.best_score,RMSE_train=d_hp.best_RMSE_train,RMSE_test=d_hp.best_RMSE_test)"
   ]
  },
  {
   "cell_type": "code",
   "execution_count": 160,
   "metadata": {},
   "outputs": [
    {
     "name": "stdout",
     "output_type": "stream",
     "text": [
      "MSE for train: mean: 0.548786993073547 std: 0.00688186423612256\n",
      "MSE for test:  mean: 0.6346304902568127  std: 0.059562846923886234\n",
      "\n",
      "RMSE for train: mean: 0.740787014892559 std: 0.004646680548372201\n",
      "RMSE for test: mean: 0.7957436938909399 std: 0.03771556561441141\n",
      "\n",
      "R^2 for train: mean: 0.6972885297677012 std: 0.0034961219722102702\n",
      "R^2 for test: mean: 0.6495306677462682 std: 0.028528935241159136\n",
      "\n",
      "MAE for train: mean: 0.5802641245194488 std: 0.003909909738843044\n",
      "MAE for test: mean: 0.6216819133418239 std: 0.02783268763502778\n",
      "\n",
      "MAPE for train: mean: 0.040207750503559944 std: 0.000274211311387286\n",
      "MAPE for test: mean: 0.043041107980884744 std: 0.0018503509084311532\n",
      "\n"
     ]
    }
   ],
   "source": [
    "# Test specific d-model:\n",
    "d_specific = em.D_Pos(train,type='GBR',scale='log',max_depth=2,n_estimators=20,min_samples_split=10,min_samples_leaf=6,bootstrap=True)\n",
    "d_specific.perform_CV()"
   ]
  },
  {
   "cell_type": "code",
   "execution_count": null,
   "metadata": {},
   "outputs": [
    {
     "name": "stdout",
     "output_type": "stream",
     "text": [
      "MSE for train: mean: 0.7012427617280292 std: 0.004941692713903366\n",
      "MSE for test:  mean: 0.7207155927803411  std: 0.0462262249078111\n",
      "\n",
      "RMSE for train: mean: 0.8373971950530199 std: 0.0029494822196098574\n",
      "RMSE for test: mean: 0.8485122113516178 std: 0.02725105442966505\n",
      "\n",
      "R^2 for train: mean: 0.6131889073826028 std: 0.0027516982095289262\n",
      "R^2 for test: mean: 0.6015102563886234 std: 0.025963750612109943\n",
      "\n",
      "MAE for train: mean: 0.6632660717220248 std: 0.003080633699111641\n",
      "MAE for test: mean: 0.6706089682492065 std: 0.023965589121736935\n",
      "\n",
      "MAPE for train: mean: 0.04601786006671068 std: 0.000199374379026304\n",
      "MAPE for test: mean: 0.04650488947896008 std: 0.0015100445342630569\n",
      "\n"
     ]
    }
   ],
   "source": [
    "#baseline model for the M-position\n",
    "m_model = em.M_Pos(train,scale='log')\n",
    "m_model.perform_CV()"
   ]
  },
  {
   "cell_type": "code",
   "execution_count": null,
   "metadata": {},
   "outputs": [
    {
     "name": "stdout",
     "output_type": "stream",
     "text": [
      "0.9163696656809789\n",
      "{'model': 'RIDGE', 'param': {'alpha': np.float64(8.83673469387755)}}\n"
     ]
    }
   ],
   "source": [
    "# Lets improve the m-model\n",
    "m_hp = em.hyperparameter_tuning_general(train,n_iter=100,cv=3,scale='log',beta=3,model=em.M_Pos)\n",
    "print(m_hp.best_score)\n",
    "print(m_hp.best_params)"
   ]
  },
  {
   "cell_type": "code",
   "execution_count": null,
   "metadata": {},
   "outputs": [
    {
     "name": "stdout",
     "output_type": "stream",
     "text": [
      "MSE for train: mean: 0.6993741431459286 std: 0.0065683521276615805\n",
      "MSE for test:  mean: 0.7173940114921596  std: 0.05895345140290582\n",
      "\n",
      "RMSE for train: mean: 0.8362766790672685 std: 0.003931818173499787\n",
      "RMSE for test: mean: 0.8462876832861081 std: 0.03451331062636321\n",
      "\n",
      "R^2 for train: mean: 0.6161256028061066 std: 0.0028836238369783955\n",
      "R^2 for test: mean: 0.6045241964274065 std: 0.02745999732149285\n",
      "\n",
      "MAE for train: mean: 0.6639324654142045 std: 0.003347424192011463\n",
      "MAE for test: mean: 0.6715309469377889 std: 0.029514529458794143\n",
      "\n",
      "MAPE for train: mean: 0.04607994834571343 std: 0.00022386571312763706\n",
      "MAPE for test: mean: 0.04658758991318203 std: 0.0018301425803982482\n",
      "\n"
     ]
    }
   ],
   "source": [
    "m_hp.best_model.perform_CV()"
   ]
  },
  {
   "cell_type": "code",
   "execution_count": null,
   "metadata": {},
   "outputs": [],
   "source": [
    "em.save_general(save_dir,'cutoff_general','M',m_hp.best_params,m_hp.best_score,RMSE_train=m_hp.best_RMSE_train,RMSE_test=m_hp.best_RMSE_test)"
   ]
  },
  {
   "cell_type": "code",
   "execution_count": 161,
   "metadata": {},
   "outputs": [
    {
     "name": "stdout",
     "output_type": "stream",
     "text": [
      "MSE for train: mean: 0.4524809767235407 std: 0.0090394401474795\n",
      "MSE for test:  mean: 0.5999806507719623  std: 0.04971835509589007\n",
      "\n",
      "RMSE for train: mean: 0.6726333904647601 std: 0.006730435009883977\n",
      "RMSE for test: mean: 0.7739019303353013 std: 0.032503122853914934\n",
      "\n",
      "R^2 for train: mean: 0.7504172262305234 std: 0.004505925597515233\n",
      "R^2 for test: mean: 0.6683309375611416 std: 0.027191625884700033\n",
      "\n",
      "MAE for train: mean: 0.5264043863358344 std: 0.005772876908065688\n",
      "MAE for test: mean: 0.6061039967170759 std: 0.028485277716411347\n",
      "\n",
      "MAPE for train: mean: 0.036524468572435305 std: 0.0004043366490977118\n",
      "MAPE for test: mean: 0.041962770556829884 std: 0.0019767436385808006\n",
      "\n"
     ]
    }
   ],
   "source": [
    "# Test specific m-model:\n",
    "m_specific = em.M_Pos(train,type='GBR',scale='log',max_depth=2,n_estimators=50,min_samples_split=10,min_samples_leaf=7,bootstrap=True)\n",
    "m_specific.perform_CV()"
   ]
  },
  {
   "cell_type": "code",
   "execution_count": null,
   "metadata": {},
   "outputs": [
    {
     "name": "stdout",
     "output_type": "stream",
     "text": [
      "MSE for train: mean: 0.7057247314314697 std: 0.00479125877284175\n",
      "MSE for test:  mean: 0.7255950858168165  std: 0.04499106295694216\n",
      "\n",
      "RMSE for train: mean: 0.8400694052040519 std: 0.0028505914439118144\n",
      "RMSE for test: mean: 0.8514084578303877 std: 0.0264333832813263\n",
      "\n",
      "R^2 for train: mean: 0.6107165800829629 std: 0.0026758295241951398\n",
      "R^2 for test: mean: 0.5988079254393133 std: 0.025321430051611065\n",
      "\n",
      "MAE for train: mean: 0.6646579719441167 std: 0.0029992095846301282\n",
      "MAE for test: mean: 0.6720521157984667 std: 0.022888107127931136\n",
      "\n",
      "MAPE for train: mean: 0.046106381022880005 std: 0.00019271659004994527\n",
      "MAPE for test: mean: 0.04659661465123342 std: 0.0014166244664757337\n",
      "\n"
     ]
    }
   ],
   "source": [
    "#Baseline model for $F$-position\n",
    "f_model = em.F_Pos(train,scale='log')\n",
    "f_model.perform_CV()"
   ]
  },
  {
   "cell_type": "code",
   "execution_count": null,
   "metadata": {},
   "outputs": [
    {
     "name": "stdout",
     "output_type": "stream",
     "text": [
      "0.9204174382240417\n",
      "{'model': 'RIDGE', 'param': {'alpha': np.float64(9.612244897959183)}}\n"
     ]
    }
   ],
   "source": [
    "# Lets improve the F-model\n",
    "f_hp = em.hyperparameter_tuning_general(train,n_iter=100,cv=3,scale='log',beta=3,model=em.F_Pos)\n",
    "print(f_hp.best_score)\n",
    "print(f_hp.best_params)"
   ]
  },
  {
   "cell_type": "code",
   "execution_count": null,
   "metadata": {},
   "outputs": [
    {
     "name": "stdout",
     "output_type": "stream",
     "text": [
      "MSE for train: mean: 0.7029940569088327 std: 0.006548724461348023\n",
      "MSE for test:  mean: 0.7209228554991837  std: 0.05881844223795256\n",
      "\n",
      "RMSE for train: mean: 0.8384382908588645 std: 0.00391015734964024\n",
      "RMSE for test: mean: 0.8483776409997363 std: 0.03432540969756918\n",
      "\n",
      "R^2 for train: mean: 0.6141387432816823 std: 0.002855240938139548\n",
      "R^2 for test: mean: 0.6025940639292021 std: 0.027073120503639605\n",
      "\n",
      "MAE for train: mean: 0.6647466601951553 std: 0.0033252442405929516\n",
      "MAE for test: mean: 0.6722951335839524 std: 0.029036168472643543\n",
      "\n",
      "MAPE for train: mean: 0.04613185791273246 std: 0.0002223716647455127\n",
      "MAPE for test: mean: 0.046636450209853915 std: 0.0017921349161667199\n",
      "\n"
     ]
    }
   ],
   "source": [
    "f_hp.best_model.perform_CV()"
   ]
  },
  {
   "cell_type": "code",
   "execution_count": null,
   "metadata": {},
   "outputs": [],
   "source": [
    "em.save_general(save_dir,'cutoff_general','F',f_hp.best_params,f_hp.best_score,RMSE_train=f_hp.best_RMSE_train,RMSE_test=f_hp.best_RMSE_test)"
   ]
  },
  {
   "cell_type": "markdown",
   "metadata": {},
   "source": [
    "## The ensamble model\n",
    "This is a new class that builds a model for all the positions and puts it together.  The way to set it up is as follows in the next cell."
   ]
  },
  {
   "cell_type": "code",
   "execution_count": 33,
   "metadata": {},
   "outputs": [
    {
     "data": {
      "text/html": [
       "<div>\n",
       "<style scoped>\n",
       "    .dataframe tbody tr th:only-of-type {\n",
       "        vertical-align: middle;\n",
       "    }\n",
       "\n",
       "    .dataframe tbody tr th {\n",
       "        vertical-align: top;\n",
       "    }\n",
       "\n",
       "    .dataframe thead th {\n",
       "        text-align: right;\n",
       "    }\n",
       "</style>\n",
       "<table border=\"1\" class=\"dataframe\">\n",
       "  <thead>\n",
       "    <tr style=\"text-align: right;\">\n",
       "      <th></th>\n",
       "      <th>name</th>\n",
       "      <th>dob</th>\n",
       "      <th>pos</th>\n",
       "      <th>height</th>\n",
       "      <th>foot</th>\n",
       "      <th>date</th>\n",
       "      <th>market_value</th>\n",
       "      <th>adjusted_market_value</th>\n",
       "      <th>team</th>\n",
       "      <th>league</th>\n",
       "      <th>...</th>\n",
       "      <th>accuratePass</th>\n",
       "      <th>accurateLongBalls</th>\n",
       "      <th>accurateCross</th>\n",
       "      <th>accurateKeeperSweeper</th>\n",
       "      <th>expectedAssists</th>\n",
       "      <th>expectedGoals</th>\n",
       "      <th>xGChain</th>\n",
       "      <th>xGBuildup</th>\n",
       "      <th>prediction</th>\n",
       "      <th>residual</th>\n",
       "    </tr>\n",
       "  </thead>\n",
       "  <tbody>\n",
       "    <tr>\n",
       "      <th>0</th>\n",
       "      <td>noah mbamba</td>\n",
       "      <td>2005-01-04</td>\n",
       "      <td>D</td>\n",
       "      <td>187.0</td>\n",
       "      <td>right</td>\n",
       "      <td>2024-02-03</td>\n",
       "      <td>3000000.0</td>\n",
       "      <td>14.914123</td>\n",
       "      <td>Bayer 04 Leverkusen</td>\n",
       "      <td>Bundesliga</td>\n",
       "      <td>...</td>\n",
       "      <td>13.523810</td>\n",
       "      <td>0.619048</td>\n",
       "      <td>0.047619</td>\n",
       "      <td>0.000000</td>\n",
       "      <td>0.025627</td>\n",
       "      <td>0.001195</td>\n",
       "      <td>0.000000</td>\n",
       "      <td>0.000000</td>\n",
       "      <td>13.625808</td>\n",
       "      <td>1.288315</td>\n",
       "    </tr>\n",
       "    <tr>\n",
       "      <th>1</th>\n",
       "      <td>zachary duncan</td>\n",
       "      <td>2000-05-29</td>\n",
       "      <td>M</td>\n",
       "      <td>183.0</td>\n",
       "      <td>right</td>\n",
       "      <td>2021-11-07</td>\n",
       "      <td>300000.0</td>\n",
       "      <td>12.815613</td>\n",
       "      <td>AGF</td>\n",
       "      <td>Superligaen</td>\n",
       "      <td>...</td>\n",
       "      <td>9.000000</td>\n",
       "      <td>0.458333</td>\n",
       "      <td>0.041667</td>\n",
       "      <td>0.000000</td>\n",
       "      <td>0.000000</td>\n",
       "      <td>0.000000</td>\n",
       "      <td>0.000000</td>\n",
       "      <td>0.000000</td>\n",
       "      <td>13.514280</td>\n",
       "      <td>0.698667</td>\n",
       "    </tr>\n",
       "    <tr>\n",
       "      <th>2</th>\n",
       "      <td>manuel neuer</td>\n",
       "      <td>1986-03-26</td>\n",
       "      <td>G</td>\n",
       "      <td>193.0</td>\n",
       "      <td>right</td>\n",
       "      <td>2024-10-19</td>\n",
       "      <td>4000000.0</td>\n",
       "      <td>15.201805</td>\n",
       "      <td>FC Bayern München</td>\n",
       "      <td>Bundesliga</td>\n",
       "      <td>...</td>\n",
       "      <td>27.122881</td>\n",
       "      <td>5.411017</td>\n",
       "      <td>0.000000</td>\n",
       "      <td>0.495763</td>\n",
       "      <td>0.001084</td>\n",
       "      <td>0.000969</td>\n",
       "      <td>0.271096</td>\n",
       "      <td>0.270107</td>\n",
       "      <td>15.496563</td>\n",
       "      <td>0.294758</td>\n",
       "    </tr>\n",
       "    <tr>\n",
       "      <th>3</th>\n",
       "      <td>mickel miller</td>\n",
       "      <td>1995-12-01</td>\n",
       "      <td>M</td>\n",
       "      <td>173.0</td>\n",
       "      <td>left</td>\n",
       "      <td>2024-04-12</td>\n",
       "      <td>250000.0</td>\n",
       "      <td>12.429220</td>\n",
       "      <td>Plymouth Argyle</td>\n",
       "      <td>Championship</td>\n",
       "      <td>...</td>\n",
       "      <td>13.837209</td>\n",
       "      <td>0.697674</td>\n",
       "      <td>0.418605</td>\n",
       "      <td>0.000000</td>\n",
       "      <td>0.067950</td>\n",
       "      <td>0.015244</td>\n",
       "      <td>0.000000</td>\n",
       "      <td>0.000000</td>\n",
       "      <td>13.544847</td>\n",
       "      <td>1.115626</td>\n",
       "    </tr>\n",
       "    <tr>\n",
       "      <th>4</th>\n",
       "      <td>gaetano monachello</td>\n",
       "      <td>1994-03-02</td>\n",
       "      <td>F</td>\n",
       "      <td>185.0</td>\n",
       "      <td>left</td>\n",
       "      <td>2016-05-15</td>\n",
       "      <td>900000.0</td>\n",
       "      <td>13.991030</td>\n",
       "      <td>Atalanta</td>\n",
       "      <td>Serie A</td>\n",
       "      <td>...</td>\n",
       "      <td>5.700000</td>\n",
       "      <td>0.200000</td>\n",
       "      <td>0.100000</td>\n",
       "      <td>0.000000</td>\n",
       "      <td>0.000000</td>\n",
       "      <td>0.111925</td>\n",
       "      <td>0.161218</td>\n",
       "      <td>0.061587</td>\n",
       "      <td>14.057601</td>\n",
       "      <td>0.066571</td>\n",
       "    </tr>\n",
       "    <tr>\n",
       "      <th>...</th>\n",
       "      <td>...</td>\n",
       "      <td>...</td>\n",
       "      <td>...</td>\n",
       "      <td>...</td>\n",
       "      <td>...</td>\n",
       "      <td>...</td>\n",
       "      <td>...</td>\n",
       "      <td>...</td>\n",
       "      <td>...</td>\n",
       "      <td>...</td>\n",
       "      <td>...</td>\n",
       "      <td>...</td>\n",
       "      <td>...</td>\n",
       "      <td>...</td>\n",
       "      <td>...</td>\n",
       "      <td>...</td>\n",
       "      <td>...</td>\n",
       "      <td>...</td>\n",
       "      <td>...</td>\n",
       "      <td>...</td>\n",
       "      <td>...</td>\n",
       "    </tr>\n",
       "    <tr>\n",
       "      <th>9362</th>\n",
       "      <td>michael svoboda</td>\n",
       "      <td>1998-10-14</td>\n",
       "      <td>D</td>\n",
       "      <td>195.0</td>\n",
       "      <td>right</td>\n",
       "      <td>2024-10-20</td>\n",
       "      <td>1500000.0</td>\n",
       "      <td>14.220976</td>\n",
       "      <td>Venezia</td>\n",
       "      <td>Serie A</td>\n",
       "      <td>...</td>\n",
       "      <td>29.730769</td>\n",
       "      <td>2.653846</td>\n",
       "      <td>0.038462</td>\n",
       "      <td>0.000000</td>\n",
       "      <td>0.038870</td>\n",
       "      <td>0.042371</td>\n",
       "      <td>0.117319</td>\n",
       "      <td>0.117319</td>\n",
       "      <td>14.464836</td>\n",
       "      <td>0.243859</td>\n",
       "    </tr>\n",
       "    <tr>\n",
       "      <th>9363</th>\n",
       "      <td>kalifa coulibaly</td>\n",
       "      <td>1991-08-20</td>\n",
       "      <td>F</td>\n",
       "      <td>197.0</td>\n",
       "      <td>right</td>\n",
       "      <td>2022-05-21</td>\n",
       "      <td>1500000.0</td>\n",
       "      <td>14.370794</td>\n",
       "      <td>Nantes</td>\n",
       "      <td>Ligue 1</td>\n",
       "      <td>...</td>\n",
       "      <td>7.405941</td>\n",
       "      <td>0.099010</td>\n",
       "      <td>0.069307</td>\n",
       "      <td>0.000000</td>\n",
       "      <td>0.050634</td>\n",
       "      <td>0.219190</td>\n",
       "      <td>0.265225</td>\n",
       "      <td>0.053416</td>\n",
       "      <td>14.450305</td>\n",
       "      <td>0.079512</td>\n",
       "    </tr>\n",
       "    <tr>\n",
       "      <th>9364</th>\n",
       "      <td>nordin jackers</td>\n",
       "      <td>1997-09-04</td>\n",
       "      <td>G</td>\n",
       "      <td>185.0</td>\n",
       "      <td>right</td>\n",
       "      <td>2024-04-28</td>\n",
       "      <td>900000.0</td>\n",
       "      <td>13.710151</td>\n",
       "      <td>Club Brugge KV</td>\n",
       "      <td>First Division A, Championship Round</td>\n",
       "      <td>...</td>\n",
       "      <td>20.742857</td>\n",
       "      <td>10.514286</td>\n",
       "      <td>0.000000</td>\n",
       "      <td>0.200000</td>\n",
       "      <td>0.000000</td>\n",
       "      <td>0.000000</td>\n",
       "      <td>0.000000</td>\n",
       "      <td>0.000000</td>\n",
       "      <td>13.666569</td>\n",
       "      <td>0.043582</td>\n",
       "    </tr>\n",
       "    <tr>\n",
       "      <th>9365</th>\n",
       "      <td>mads kikkenborg</td>\n",
       "      <td>1999-10-06</td>\n",
       "      <td>G</td>\n",
       "      <td>197.0</td>\n",
       "      <td>right</td>\n",
       "      <td>2023-12-03</td>\n",
       "      <td>800000.0</td>\n",
       "      <td>13.647174</td>\n",
       "      <td>Lyngby</td>\n",
       "      <td>Superligaen</td>\n",
       "      <td>...</td>\n",
       "      <td>16.488372</td>\n",
       "      <td>7.023256</td>\n",
       "      <td>0.000000</td>\n",
       "      <td>0.488372</td>\n",
       "      <td>0.000000</td>\n",
       "      <td>0.000000</td>\n",
       "      <td>0.000000</td>\n",
       "      <td>0.000000</td>\n",
       "      <td>13.922657</td>\n",
       "      <td>0.275484</td>\n",
       "    </tr>\n",
       "    <tr>\n",
       "      <th>9366</th>\n",
       "      <td>kees luijckx</td>\n",
       "      <td>1986-02-10</td>\n",
       "      <td>D</td>\n",
       "      <td>190.0</td>\n",
       "      <td>right</td>\n",
       "      <td>2021-05-20</td>\n",
       "      <td>200000.0</td>\n",
       "      <td>12.410148</td>\n",
       "      <td>Roda JC Kerkrade</td>\n",
       "      <td>Eredivisie, Relegation/Promotion Playoffs</td>\n",
       "      <td>...</td>\n",
       "      <td>40.320000</td>\n",
       "      <td>4.120000</td>\n",
       "      <td>0.000000</td>\n",
       "      <td>0.000000</td>\n",
       "      <td>0.000000</td>\n",
       "      <td>0.000000</td>\n",
       "      <td>0.000000</td>\n",
       "      <td>0.000000</td>\n",
       "      <td>13.237932</td>\n",
       "      <td>0.827784</td>\n",
       "    </tr>\n",
       "  </tbody>\n",
       "</table>\n",
       "<p>9367 rows × 57 columns</p>\n",
       "</div>"
      ],
      "text/plain": [
       "                    name         dob pos  height   foot        date  \\\n",
       "0            noah mbamba  2005-01-04   D   187.0  right  2024-02-03   \n",
       "1         zachary duncan  2000-05-29   M   183.0  right  2021-11-07   \n",
       "2           manuel neuer  1986-03-26   G   193.0  right  2024-10-19   \n",
       "3          mickel miller  1995-12-01   M   173.0   left  2024-04-12   \n",
       "4     gaetano monachello  1994-03-02   F   185.0   left  2016-05-15   \n",
       "...                  ...         ...  ..     ...    ...         ...   \n",
       "9362     michael svoboda  1998-10-14   D   195.0  right  2024-10-20   \n",
       "9363    kalifa coulibaly  1991-08-20   F   197.0  right  2022-05-21   \n",
       "9364      nordin jackers  1997-09-04   G   185.0  right  2024-04-28   \n",
       "9365     mads kikkenborg  1999-10-06   G   197.0  right  2023-12-03   \n",
       "9366        kees luijckx  1986-02-10   D   190.0  right  2021-05-20   \n",
       "\n",
       "      market_value  adjusted_market_value                 team  \\\n",
       "0        3000000.0              14.914123  Bayer 04 Leverkusen   \n",
       "1         300000.0              12.815613                  AGF   \n",
       "2        4000000.0              15.201805    FC Bayern München   \n",
       "3         250000.0              12.429220      Plymouth Argyle   \n",
       "4         900000.0              13.991030             Atalanta   \n",
       "...            ...                    ...                  ...   \n",
       "9362     1500000.0              14.220976              Venezia   \n",
       "9363     1500000.0              14.370794               Nantes   \n",
       "9364      900000.0              13.710151       Club Brugge KV   \n",
       "9365      800000.0              13.647174               Lyngby   \n",
       "9366      200000.0              12.410148     Roda JC Kerkrade   \n",
       "\n",
       "                                         league  ...  accuratePass  \\\n",
       "0                                    Bundesliga  ...     13.523810   \n",
       "1                                   Superligaen  ...      9.000000   \n",
       "2                                    Bundesliga  ...     27.122881   \n",
       "3                                  Championship  ...     13.837209   \n",
       "4                                       Serie A  ...      5.700000   \n",
       "...                                         ...  ...           ...   \n",
       "9362                                    Serie A  ...     29.730769   \n",
       "9363                                    Ligue 1  ...      7.405941   \n",
       "9364       First Division A, Championship Round  ...     20.742857   \n",
       "9365                                Superligaen  ...     16.488372   \n",
       "9366  Eredivisie, Relegation/Promotion Playoffs  ...     40.320000   \n",
       "\n",
       "      accurateLongBalls  accurateCross  accurateKeeperSweeper  \\\n",
       "0              0.619048       0.047619               0.000000   \n",
       "1              0.458333       0.041667               0.000000   \n",
       "2              5.411017       0.000000               0.495763   \n",
       "3              0.697674       0.418605               0.000000   \n",
       "4              0.200000       0.100000               0.000000   \n",
       "...                 ...            ...                    ...   \n",
       "9362           2.653846       0.038462               0.000000   \n",
       "9363           0.099010       0.069307               0.000000   \n",
       "9364          10.514286       0.000000               0.200000   \n",
       "9365           7.023256       0.000000               0.488372   \n",
       "9366           4.120000       0.000000               0.000000   \n",
       "\n",
       "      expectedAssists  expectedGoals   xGChain  xGBuildup  prediction  \\\n",
       "0            0.025627       0.001195  0.000000   0.000000   13.625808   \n",
       "1            0.000000       0.000000  0.000000   0.000000   13.514280   \n",
       "2            0.001084       0.000969  0.271096   0.270107   15.496563   \n",
       "3            0.067950       0.015244  0.000000   0.000000   13.544847   \n",
       "4            0.000000       0.111925  0.161218   0.061587   14.057601   \n",
       "...               ...            ...       ...        ...         ...   \n",
       "9362         0.038870       0.042371  0.117319   0.117319   14.464836   \n",
       "9363         0.050634       0.219190  0.265225   0.053416   14.450305   \n",
       "9364         0.000000       0.000000  0.000000   0.000000   13.666569   \n",
       "9365         0.000000       0.000000  0.000000   0.000000   13.922657   \n",
       "9366         0.000000       0.000000  0.000000   0.000000   13.237932   \n",
       "\n",
       "      residual  \n",
       "0     1.288315  \n",
       "1     0.698667  \n",
       "2     0.294758  \n",
       "3     1.115626  \n",
       "4     0.066571  \n",
       "...        ...  \n",
       "9362  0.243859  \n",
       "9363  0.079512  \n",
       "9364  0.043582  \n",
       "9365  0.275484  \n",
       "9366  0.827784  \n",
       "\n",
       "[9367 rows x 57 columns]"
      ]
     },
     "metadata": {},
     "output_type": "display_data"
    }
   ],
   "source": [
    "# To set up the ensamble model with your specifications we do the following:\n",
    "\n",
    "ex = em.ensamble_model(scale='log')    # this sets up the class ready to take inthe parameters and the data for fitting\n",
    "\n",
    "ex.G_parameters(type = 'LR') # put the parameters for the G model as just linear regression\n",
    "ex.D_parameters(type = 'RIDGE', alpha=5)  # puts the parameters for the D model as just linear regression with ridge regularization\n",
    "ex.F_parameters(type='RFR', max_depth=10)   # puts the forwards parameters as random forest with max depth of 10\n",
    "\n",
    "# Note that any left our parameters changes, for example M here, is left as just Linear regression\n",
    "\n",
    "# Once you set up what your model is, we can fit the data to it\n",
    "ex.fit(train)\n",
    "\n",
    "# It is now fitted to the data and read to predict things:\n",
    "result = train.copy()\n",
    "result[ex.target] = ex.scale_target(result[ex.target])\n",
    "\n",
    "result['prediction']= ex.predict(train)\n",
    "result['residual'] = abs(result[ex.target] - result['prediction'])\n",
    "\n",
    "display(result)\n"
   ]
  },
  {
   "cell_type": "markdown",
   "metadata": {},
   "source": [
    "# Now lets say you want to figure out which model is the best through a cross-validation.\n",
    "You can do the above, but now you use a perform_CV(train) to do a cross-validation with the type of parameters you put in\n",
    "For example:"
   ]
  },
  {
   "cell_type": "code",
   "execution_count": 36,
   "metadata": {},
   "outputs": [
    {
     "name": "stdout",
     "output_type": "stream",
     "text": [
      "MSE for train: mean: 0.7447681352296309 std: 0.006134996963473714\n",
      "MSE for test:  mean: 0.9970257610457217  std: 0.06568384573124325\n",
      "\n",
      "RMSE for train: mean: 0.8629921916154022 std: 0.003551399791051874\n",
      "RMSE for test: mean: 0.9979734327488321 std: 0.0327839682350073\n",
      "\n",
      "R^2 for train: mean: 0.6153933446381987 std: 0.002741171726794568\n",
      "R^2 for test: mean: 0.4842985102039633 std: 0.031129588333427292\n",
      "\n",
      "MAE for train: mean: 0.6420626256506956 std: 0.002477738683135178\n",
      "MAE for test: mean: 0.7771672055319406 std: 0.020928391000426858\n",
      "\n",
      "MAPE for train: mean: 0.04608210603021121 std: 0.00018383726205094345\n",
      "MAPE for test: mean: 0.05585562483149635 std: 0.001628357580220057\n",
      "\n"
     ]
    }
   ],
   "source": [
    "# make the ensamble model object\n",
    "ensamble = em.ensamble_model(scale='log')\n",
    "\n",
    "ensamble.G_parameters(type = 'DT') # put the parameters for the G model as just linear regression\n",
    "ensamble.D_parameters(type = 'RIDGE', alpha=5)  # puts the parameters for the D model as just linear regression with ridge regularization\n",
    "ensamble.F_parameters(type='RFR', max_depth=10)   # puts the forwards parameters as random forest with max depth of 10\n",
    "\n",
    "ensamble.perform_CV(train)"
   ]
  },
  {
   "cell_type": "code",
   "execution_count": 89,
   "metadata": {},
   "outputs": [
    {
     "name": "stdout",
     "output_type": "stream",
     "text": [
      "MSE for train: mean: 0.5569110223153684 std: 0.007250390583410693\n",
      "MSE for test:  mean: 0.8004242018666347  std: 0.052041440474732886\n",
      "\n",
      "RMSE for train: mean: 0.7462489269818838 std: 0.004853997708651101\n",
      "RMSE for test: mean: 0.8942000799135957 std: 0.02881699063319775\n",
      "\n",
      "R^2 for train: mean: 0.7124022518384336 std: 0.003763633602842667\n",
      "R^2 for test: mean: 0.5857910492833115 std: 0.02777526830110715\n",
      "\n",
      "MAE for train: mean: 0.5793641848566887 std: 0.004004150310516548\n",
      "MAE for test: mean: 0.6965161607327714 std: 0.020991336036524137\n",
      "\n",
      "MAPE for train: mean: 0.04165949533443455 std: 0.0002938729829286943\n",
      "MAPE for test: mean: 0.04989065340867574 std: 0.0016407123846776733\n",
      "\n"
     ]
    }
   ],
   "source": [
    "ex = em.ensamble_model(scale='log')\n",
    "ex.G_parameters(type ='GBR',max_depth = 2, n_estimators = 10,max_features = 0.75, min_samples_split = 5, min_samples_leaf=4,\n",
    "                bootstrap=True)\n",
    "ex.D_parameters(type ='GBR', max_depth= 2, n_estimators= 40, max_features= 'sqrt', min_samples_split= 10,\n",
    "                 min_samples_leaf=2, bootstrap= True )\n",
    "ex.M_parameters(type='GBR',max_depth=2, n_estimators= 40, max_features= 0.25, min_samples_split= 5,\n",
    "                 min_samples_leaf=1, bootstrap= True)\n",
    "ex.F_parameters(type = 'GBR',max_depth= 2, n_estimators= 40, max_features= 0.5, min_samples_split= 2,\n",
    "                 min_samples_leaf= 5, bootstrap=True)\n",
    "ex.perform_CV(train)"
   ]
  },
  {
   "cell_type": "code",
   "execution_count": 90,
   "metadata": {},
   "outputs": [
    {
     "data": {
      "text/html": [
       "<div>\n",
       "<style scoped>\n",
       "    .dataframe tbody tr th:only-of-type {\n",
       "        vertical-align: middle;\n",
       "    }\n",
       "\n",
       "    .dataframe tbody tr th {\n",
       "        vertical-align: top;\n",
       "    }\n",
       "\n",
       "    .dataframe thead th {\n",
       "        text-align: right;\n",
       "    }\n",
       "</style>\n",
       "<table border=\"1\" class=\"dataframe\">\n",
       "  <thead>\n",
       "    <tr style=\"text-align: right;\">\n",
       "      <th></th>\n",
       "      <th>name</th>\n",
       "      <th>dob</th>\n",
       "      <th>pos</th>\n",
       "      <th>height</th>\n",
       "      <th>foot</th>\n",
       "      <th>date</th>\n",
       "      <th>market_value</th>\n",
       "      <th>adjusted_market_value</th>\n",
       "      <th>team</th>\n",
       "      <th>league</th>\n",
       "      <th>...</th>\n",
       "      <th>rating</th>\n",
       "      <th>accuratePass</th>\n",
       "      <th>accurateLongBalls</th>\n",
       "      <th>accurateCross</th>\n",
       "      <th>accurateKeeperSweeper</th>\n",
       "      <th>expectedAssists</th>\n",
       "      <th>expectedGoals</th>\n",
       "      <th>xGChain</th>\n",
       "      <th>xGBuildup</th>\n",
       "      <th>pred</th>\n",
       "    </tr>\n",
       "  </thead>\n",
       "  <tbody>\n",
       "    <tr>\n",
       "      <th>0</th>\n",
       "      <td>noah mbamba</td>\n",
       "      <td>2005-01-04</td>\n",
       "      <td>D</td>\n",
       "      <td>187.0</td>\n",
       "      <td>right</td>\n",
       "      <td>2024-02-03</td>\n",
       "      <td>3000000.0</td>\n",
       "      <td>14.914123</td>\n",
       "      <td>Bayer 04 Leverkusen</td>\n",
       "      <td>Bundesliga</td>\n",
       "      <td>...</td>\n",
       "      <td>5.414286</td>\n",
       "      <td>13.523810</td>\n",
       "      <td>0.619048</td>\n",
       "      <td>0.047619</td>\n",
       "      <td>0.000000</td>\n",
       "      <td>0.025627</td>\n",
       "      <td>0.001195</td>\n",
       "      <td>0.000000</td>\n",
       "      <td>0.000000</td>\n",
       "      <td>13.088227</td>\n",
       "    </tr>\n",
       "    <tr>\n",
       "      <th>1</th>\n",
       "      <td>zachary duncan</td>\n",
       "      <td>2000-05-29</td>\n",
       "      <td>M</td>\n",
       "      <td>183.0</td>\n",
       "      <td>right</td>\n",
       "      <td>2021-11-07</td>\n",
       "      <td>300000.0</td>\n",
       "      <td>12.815613</td>\n",
       "      <td>AGF</td>\n",
       "      <td>Superligaen</td>\n",
       "      <td>...</td>\n",
       "      <td>6.545833</td>\n",
       "      <td>9.000000</td>\n",
       "      <td>0.458333</td>\n",
       "      <td>0.041667</td>\n",
       "      <td>0.000000</td>\n",
       "      <td>0.000000</td>\n",
       "      <td>0.000000</td>\n",
       "      <td>0.000000</td>\n",
       "      <td>0.000000</td>\n",
       "      <td>13.103743</td>\n",
       "    </tr>\n",
       "    <tr>\n",
       "      <th>2</th>\n",
       "      <td>manuel neuer</td>\n",
       "      <td>1986-03-26</td>\n",
       "      <td>G</td>\n",
       "      <td>193.0</td>\n",
       "      <td>right</td>\n",
       "      <td>2024-10-19</td>\n",
       "      <td>4000000.0</td>\n",
       "      <td>15.201805</td>\n",
       "      <td>FC Bayern München</td>\n",
       "      <td>Bundesliga</td>\n",
       "      <td>...</td>\n",
       "      <td>6.536864</td>\n",
       "      <td>27.122881</td>\n",
       "      <td>5.411017</td>\n",
       "      <td>0.000000</td>\n",
       "      <td>0.495763</td>\n",
       "      <td>0.001084</td>\n",
       "      <td>0.000969</td>\n",
       "      <td>0.271096</td>\n",
       "      <td>0.270107</td>\n",
       "      <td>14.161387</td>\n",
       "    </tr>\n",
       "    <tr>\n",
       "      <th>3</th>\n",
       "      <td>mickel miller</td>\n",
       "      <td>1995-12-01</td>\n",
       "      <td>M</td>\n",
       "      <td>173.0</td>\n",
       "      <td>left</td>\n",
       "      <td>2024-04-12</td>\n",
       "      <td>250000.0</td>\n",
       "      <td>12.429220</td>\n",
       "      <td>Plymouth Argyle</td>\n",
       "      <td>Championship</td>\n",
       "      <td>...</td>\n",
       "      <td>6.551163</td>\n",
       "      <td>13.837209</td>\n",
       "      <td>0.697674</td>\n",
       "      <td>0.418605</td>\n",
       "      <td>0.000000</td>\n",
       "      <td>0.067950</td>\n",
       "      <td>0.015244</td>\n",
       "      <td>0.000000</td>\n",
       "      <td>0.000000</td>\n",
       "      <td>13.799298</td>\n",
       "    </tr>\n",
       "    <tr>\n",
       "      <th>4</th>\n",
       "      <td>gaetano monachello</td>\n",
       "      <td>1994-03-02</td>\n",
       "      <td>F</td>\n",
       "      <td>185.0</td>\n",
       "      <td>left</td>\n",
       "      <td>2016-05-15</td>\n",
       "      <td>900000.0</td>\n",
       "      <td>13.991030</td>\n",
       "      <td>Atalanta</td>\n",
       "      <td>Serie A</td>\n",
       "      <td>...</td>\n",
       "      <td>6.550000</td>\n",
       "      <td>5.700000</td>\n",
       "      <td>0.200000</td>\n",
       "      <td>0.100000</td>\n",
       "      <td>0.000000</td>\n",
       "      <td>0.000000</td>\n",
       "      <td>0.111925</td>\n",
       "      <td>0.161218</td>\n",
       "      <td>0.061587</td>\n",
       "      <td>14.827176</td>\n",
       "    </tr>\n",
       "  </tbody>\n",
       "</table>\n",
       "<p>5 rows × 56 columns</p>\n",
       "</div>"
      ],
      "text/plain": [
       "                 name         dob pos  height   foot        date  \\\n",
       "0         noah mbamba  2005-01-04   D   187.0  right  2024-02-03   \n",
       "1      zachary duncan  2000-05-29   M   183.0  right  2021-11-07   \n",
       "2        manuel neuer  1986-03-26   G   193.0  right  2024-10-19   \n",
       "3       mickel miller  1995-12-01   M   173.0   left  2024-04-12   \n",
       "4  gaetano monachello  1994-03-02   F   185.0   left  2016-05-15   \n",
       "\n",
       "   market_value  adjusted_market_value                 team        league  \\\n",
       "0     3000000.0              14.914123  Bayer 04 Leverkusen    Bundesliga   \n",
       "1      300000.0              12.815613                  AGF   Superligaen   \n",
       "2     4000000.0              15.201805    FC Bayern München    Bundesliga   \n",
       "3      250000.0              12.429220      Plymouth Argyle  Championship   \n",
       "4      900000.0              13.991030             Atalanta       Serie A   \n",
       "\n",
       "   ...    rating  accuratePass  accurateLongBalls  accurateCross  \\\n",
       "0  ...  5.414286     13.523810           0.619048       0.047619   \n",
       "1  ...  6.545833      9.000000           0.458333       0.041667   \n",
       "2  ...  6.536864     27.122881           5.411017       0.000000   \n",
       "3  ...  6.551163     13.837209           0.697674       0.418605   \n",
       "4  ...  6.550000      5.700000           0.200000       0.100000   \n",
       "\n",
       "   accurateKeeperSweeper  expectedAssists  expectedGoals   xGChain  xGBuildup  \\\n",
       "0               0.000000         0.025627       0.001195  0.000000   0.000000   \n",
       "1               0.000000         0.000000       0.000000  0.000000   0.000000   \n",
       "2               0.495763         0.001084       0.000969  0.271096   0.270107   \n",
       "3               0.000000         0.067950       0.015244  0.000000   0.000000   \n",
       "4               0.000000         0.000000       0.111925  0.161218   0.061587   \n",
       "\n",
       "        pred  \n",
       "0  13.088227  \n",
       "1  13.103743  \n",
       "2  14.161387  \n",
       "3  13.799298  \n",
       "4  14.827176  \n",
       "\n",
       "[5 rows x 56 columns]"
      ]
     },
     "execution_count": 90,
     "metadata": {},
     "output_type": "execute_result"
    }
   ],
   "source": [
    "ex_data = train.copy()\n",
    "ex.fit(ex_data)\n",
    "ex_data['pred'] = ex.predict(ex_data)\n",
    "ex_data['adjusted_market_value'] = ex.scale_target(ex_data['adjusted_market_value'])\n",
    "ex_data.head()"
   ]
  },
  {
   "cell_type": "code",
   "execution_count": 91,
   "metadata": {},
   "outputs": [
    {
     "data": {
      "image/png": "[encoded data removed]",
      "text/plain": [
       "<Figure size 640x480 with 1 Axes>"
      ]
     },
     "metadata": {},
     "output_type": "display_data"
    }
   ],
   "source": [
    "# Histogram for our model\n",
    "fig,ax = plt.subplots()\n",
    "sns.histplot(ex_data,x='pred',ax=ax)\n",
    "sns.histplot(ex_data,x='adjusted_market_value',ax=ax,alpha=0.3)\n",
    "plt.show()"
   ]
  },
  {
   "cell_type": "code",
   "execution_count": 92,
   "metadata": {},
   "outputs": [
    {
     "data": {
      "image/png": "[encoded data removed]",
      "text/plain": [
       "<Figure size 640x480 with 1 Axes>"
      ]
     },
     "metadata": {},
     "output_type": "display_data"
    }
   ],
   "source": [
    "x = np.linspace(10,20)\n",
    "fig,ax = plt.subplots()\n",
    "sns.scatterplot(ex_data,x='pred',y='adjusted_market_value')\n",
    "plt.plot(x,x,color='red',linestyle='--')\n",
    "plt.show()"
   ]
  },
  {
   "cell_type": "code",
   "execution_count": 115,
   "metadata": {},
   "outputs": [
    {
     "name": "stdout",
     "output_type": "stream",
     "text": [
      "MSE for train: mean: 0.5058215047191013 std: 0.005725525509109351\n",
      "MSE for test:  mean: 0.7826048083223532  std: 0.047240866197177885\n",
      "\n",
      "RMSE for train: mean: 0.7111998785759064 std: 0.004029569793077779\n",
      "RMSE for test: mean: 0.8842480995123605 std: 0.02664782976401305\n",
      "\n",
      "R^2 for train: mean: 0.7387859055680972 std: 0.002950250044346332\n",
      "R^2 for test: mean: 0.5953263305494383 std: 0.019385490569794935\n",
      "\n",
      "MAE for train: mean: 0.5522637299987372 std: 0.0027222741934034016\n",
      "MAE for test: mean: 0.6889906847799121 std: 0.020027678806685833\n",
      "\n",
      "MAPE for train: mean: 0.039736665108006275 std: 0.0002023772566037469\n",
      "MAPE for test: mean: 0.04938157175430649 std: 0.0014444425203791393\n",
      "\n"
     ]
    }
   ],
   "source": [
    "# This test an ensemble model of the best parameters above for each position\n",
    "\n",
    "\n",
    "pos_hp = em.ensamble_model(scale='log')\n",
    "pos_hp.G_parameters(type ='GBR',max_depth = 2, n_estimators = 20, min_samples_split = 5, min_samples_leaf=6,\n",
    "                bootstrap=True)\n",
    "pos_hp.D_parameters(type ='GBR', max_depth= 2, n_estimators= 40, min_samples_split= 5,\n",
    "                 min_samples_leaf=6, bootstrap= True )\n",
    "pos_hp.M_parameters(type='GBR',max_depth=2, n_estimators= 40, min_samples_split= 5,\n",
    "                 min_samples_leaf=6, bootstrap= True)\n",
    "pos_hp.F_parameters(type = 'GBR',max_depth= 2, n_estimators= 40, min_samples_split= 5,\n",
    "                 min_samples_leaf= 6, bootstrap=True)\n",
    "pos_hp.perform_CV(train)\n"
   ]
  },
  {
   "cell_type": "code",
   "execution_count": 116,
   "metadata": {},
   "outputs": [
    {
     "data": {
      "text/html": [
       "<div>\n",
       "<style scoped>\n",
       "    .dataframe tbody tr th:only-of-type {\n",
       "        vertical-align: middle;\n",
       "    }\n",
       "\n",
       "    .dataframe tbody tr th {\n",
       "        vertical-align: top;\n",
       "    }\n",
       "\n",
       "    .dataframe thead th {\n",
       "        text-align: right;\n",
       "    }\n",
       "</style>\n",
       "<table border=\"1\" class=\"dataframe\">\n",
       "  <thead>\n",
       "    <tr style=\"text-align: right;\">\n",
       "      <th></th>\n",
       "      <th>name</th>\n",
       "      <th>dob</th>\n",
       "      <th>pos</th>\n",
       "      <th>height</th>\n",
       "      <th>foot</th>\n",
       "      <th>date</th>\n",
       "      <th>market_value</th>\n",
       "      <th>adjusted_market_value</th>\n",
       "      <th>team</th>\n",
       "      <th>league</th>\n",
       "      <th>...</th>\n",
       "      <th>rating</th>\n",
       "      <th>accuratePass</th>\n",
       "      <th>accurateLongBalls</th>\n",
       "      <th>accurateCross</th>\n",
       "      <th>accurateKeeperSweeper</th>\n",
       "      <th>expectedAssists</th>\n",
       "      <th>expectedGoals</th>\n",
       "      <th>xGChain</th>\n",
       "      <th>xGBuildup</th>\n",
       "      <th>pred</th>\n",
       "    </tr>\n",
       "  </thead>\n",
       "  <tbody>\n",
       "    <tr>\n",
       "      <th>0</th>\n",
       "      <td>noah mbamba</td>\n",
       "      <td>2005-01-04</td>\n",
       "      <td>D</td>\n",
       "      <td>187.0</td>\n",
       "      <td>right</td>\n",
       "      <td>2024-02-03</td>\n",
       "      <td>3000000.0</td>\n",
       "      <td>14.914123</td>\n",
       "      <td>Bayer 04 Leverkusen</td>\n",
       "      <td>Bundesliga</td>\n",
       "      <td>...</td>\n",
       "      <td>5.414286</td>\n",
       "      <td>13.523810</td>\n",
       "      <td>0.619048</td>\n",
       "      <td>0.047619</td>\n",
       "      <td>0.000000</td>\n",
       "      <td>0.025627</td>\n",
       "      <td>0.001195</td>\n",
       "      <td>0.000000</td>\n",
       "      <td>0.000000</td>\n",
       "      <td>13.915862</td>\n",
       "    </tr>\n",
       "    <tr>\n",
       "      <th>1</th>\n",
       "      <td>zachary duncan</td>\n",
       "      <td>2000-05-29</td>\n",
       "      <td>M</td>\n",
       "      <td>183.0</td>\n",
       "      <td>right</td>\n",
       "      <td>2021-11-07</td>\n",
       "      <td>300000.0</td>\n",
       "      <td>12.815613</td>\n",
       "      <td>AGF</td>\n",
       "      <td>Superligaen</td>\n",
       "      <td>...</td>\n",
       "      <td>6.545833</td>\n",
       "      <td>9.000000</td>\n",
       "      <td>0.458333</td>\n",
       "      <td>0.041667</td>\n",
       "      <td>0.000000</td>\n",
       "      <td>0.000000</td>\n",
       "      <td>0.000000</td>\n",
       "      <td>0.000000</td>\n",
       "      <td>0.000000</td>\n",
       "      <td>13.429812</td>\n",
       "    </tr>\n",
       "    <tr>\n",
       "      <th>2</th>\n",
       "      <td>manuel neuer</td>\n",
       "      <td>1986-03-26</td>\n",
       "      <td>G</td>\n",
       "      <td>193.0</td>\n",
       "      <td>right</td>\n",
       "      <td>2024-10-19</td>\n",
       "      <td>4000000.0</td>\n",
       "      <td>15.201805</td>\n",
       "      <td>FC Bayern München</td>\n",
       "      <td>Bundesliga</td>\n",
       "      <td>...</td>\n",
       "      <td>6.536864</td>\n",
       "      <td>27.122881</td>\n",
       "      <td>5.411017</td>\n",
       "      <td>0.000000</td>\n",
       "      <td>0.495763</td>\n",
       "      <td>0.001084</td>\n",
       "      <td>0.000969</td>\n",
       "      <td>0.271096</td>\n",
       "      <td>0.270107</td>\n",
       "      <td>14.726981</td>\n",
       "    </tr>\n",
       "    <tr>\n",
       "      <th>3</th>\n",
       "      <td>mickel miller</td>\n",
       "      <td>1995-12-01</td>\n",
       "      <td>M</td>\n",
       "      <td>173.0</td>\n",
       "      <td>left</td>\n",
       "      <td>2024-04-12</td>\n",
       "      <td>250000.0</td>\n",
       "      <td>12.429220</td>\n",
       "      <td>Plymouth Argyle</td>\n",
       "      <td>Championship</td>\n",
       "      <td>...</td>\n",
       "      <td>6.551163</td>\n",
       "      <td>13.837209</td>\n",
       "      <td>0.697674</td>\n",
       "      <td>0.418605</td>\n",
       "      <td>0.000000</td>\n",
       "      <td>0.067950</td>\n",
       "      <td>0.015244</td>\n",
       "      <td>0.000000</td>\n",
       "      <td>0.000000</td>\n",
       "      <td>12.977044</td>\n",
       "    </tr>\n",
       "    <tr>\n",
       "      <th>4</th>\n",
       "      <td>gaetano monachello</td>\n",
       "      <td>1994-03-02</td>\n",
       "      <td>F</td>\n",
       "      <td>185.0</td>\n",
       "      <td>left</td>\n",
       "      <td>2016-05-15</td>\n",
       "      <td>900000.0</td>\n",
       "      <td>13.991030</td>\n",
       "      <td>Atalanta</td>\n",
       "      <td>Serie A</td>\n",
       "      <td>...</td>\n",
       "      <td>6.550000</td>\n",
       "      <td>5.700000</td>\n",
       "      <td>0.200000</td>\n",
       "      <td>0.100000</td>\n",
       "      <td>0.000000</td>\n",
       "      <td>0.000000</td>\n",
       "      <td>0.111925</td>\n",
       "      <td>0.161218</td>\n",
       "      <td>0.061587</td>\n",
       "      <td>14.674679</td>\n",
       "    </tr>\n",
       "  </tbody>\n",
       "</table>\n",
       "<p>5 rows × 56 columns</p>\n",
       "</div>"
      ],
      "text/plain": [
       "                 name         dob pos  height   foot        date  \\\n",
       "0         noah mbamba  2005-01-04   D   187.0  right  2024-02-03   \n",
       "1      zachary duncan  2000-05-29   M   183.0  right  2021-11-07   \n",
       "2        manuel neuer  1986-03-26   G   193.0  right  2024-10-19   \n",
       "3       mickel miller  1995-12-01   M   173.0   left  2024-04-12   \n",
       "4  gaetano monachello  1994-03-02   F   185.0   left  2016-05-15   \n",
       "\n",
       "   market_value  adjusted_market_value                 team        league  \\\n",
       "0     3000000.0              14.914123  Bayer 04 Leverkusen    Bundesliga   \n",
       "1      300000.0              12.815613                  AGF   Superligaen   \n",
       "2     4000000.0              15.201805    FC Bayern München    Bundesliga   \n",
       "3      250000.0              12.429220      Plymouth Argyle  Championship   \n",
       "4      900000.0              13.991030             Atalanta       Serie A   \n",
       "\n",
       "   ...    rating  accuratePass  accurateLongBalls  accurateCross  \\\n",
       "0  ...  5.414286     13.523810           0.619048       0.047619   \n",
       "1  ...  6.545833      9.000000           0.458333       0.041667   \n",
       "2  ...  6.536864     27.122881           5.411017       0.000000   \n",
       "3  ...  6.551163     13.837209           0.697674       0.418605   \n",
       "4  ...  6.550000      5.700000           0.200000       0.100000   \n",
       "\n",
       "   accurateKeeperSweeper  expectedAssists  expectedGoals   xGChain  xGBuildup  \\\n",
       "0               0.000000         0.025627       0.001195  0.000000   0.000000   \n",
       "1               0.000000         0.000000       0.000000  0.000000   0.000000   \n",
       "2               0.495763         0.001084       0.000969  0.271096   0.270107   \n",
       "3               0.000000         0.067950       0.015244  0.000000   0.000000   \n",
       "4               0.000000         0.000000       0.111925  0.161218   0.061587   \n",
       "\n",
       "        pred  \n",
       "0  13.915862  \n",
       "1  13.429812  \n",
       "2  14.726981  \n",
       "3  12.977044  \n",
       "4  14.674679  \n",
       "\n",
       "[5 rows x 56 columns]"
      ]
     },
     "execution_count": 116,
     "metadata": {},
     "output_type": "execute_result"
    }
   ],
   "source": [
    "pos_hp_data = train.copy()\n",
    "pos_hp.fit(pos_hp_data)\n",
    "pos_hp_data['pred'] = pos_hp.predict(pos_hp_data)\n",
    "pos_hp_data['adjusted_market_value'] = pos_hp.scale_target(pos_hp_data['adjusted_market_value'])\n",
    "pos_hp_data.head()"
   ]
  },
  {
   "cell_type": "code",
   "execution_count": 117,
   "metadata": {},
   "outputs": [
    {
     "data": {
      "image/png": "[encoded data removed]",
      "text/plain": [
       "<Figure size 640x480 with 1 Axes>"
      ]
     },
     "metadata": {},
     "output_type": "display_data"
    }
   ],
   "source": [
    "# Histogram for our model\n",
    "fig,ax = plt.subplots()\n",
    "sns.histplot(pos_hp_data,x='pred',ax=ax,label='Predicted Values')\n",
    "sns.histplot(pos_hp_data,x='adjusted_market_value',ax=ax,alpha=0.3,label='True Values')\n",
    "plt.legend()\n",
    "plt.show()"
   ]
  },
  {
   "cell_type": "code",
   "execution_count": 118,
   "metadata": {},
   "outputs": [
    {
     "data": {
      "image/png": "[encoded data removed]",
      "text/plain": [
       "<Figure size 640x480 with 1 Axes>"
      ]
     },
     "metadata": {},
     "output_type": "display_data"
    }
   ],
   "source": [
    "x = np.linspace(10,20)\n",
    "fig,ax = plt.subplots()\n",
    "sns.scatterplot(pos_hp_data,x='pred',y='adjusted_market_value')\n",
    "plt.plot(x,x,color='red',linestyle='--')\n",
    "plt.show()"
   ]
  },
  {
   "cell_type": "markdown",
   "metadata": {},
   "source": [
    "## Hyperparameter tuning\n",
    "\n",
    "This takes in the set of possible parameters defined in the ensamble_model.py and randomly chooses them as it goes through the n_iter=100"
   ]
  },
  {
   "cell_type": "code",
   "execution_count": 10,
   "metadata": {},
   "outputs": [
    {
     "name": "stdout",
     "output_type": "stream",
     "text": [
      "{'G': {'model': 'LR', 'param': {}}, 'D': {'model': 'LR', 'param': {}}, 'M': {'model': 'RFR', 'param': {'max_depth': 5, 'n_estimators': 20, 'max_features': 0.75, 'min_samples_split': 5, 'min_samples_leaf': 1, 'bootstrap': True}}, 'F': {'model': 'RIDGE', 'param': {'alpha': np.float64(4.183673469387755)}}}\n",
      "1.013867233554123\n",
      "<ensamble_model.ensamble_model object at 0x7635744feb40>\n"
     ]
    }
   ],
   "source": [
    "# Lets try some hyperparameter tuning:\n",
    "\n",
    "hp = em.hyperparameter_tuning(train,n_iter=1000,cv=3,scale='log',beta=1)\n",
    "\n",
    "# After it gets done doing its hyperparameter tuning, it saves the best model, the parameters for that model, and the score \n",
    "# (which is just RMSE for now, I can change it later to do what ever score you want to use)\n",
    "\n",
    "print(hp.best_params)  # Best parameters in a dictionary object\n",
    "print(hp.best_score)   # the best RMSE\n",
    "print(hp.best_model)   # the ensamble_model() object that has the best parameters above and score.\n",
    "\n",
    "# You can now use the hp.best_model to do predictions and we can save it later once we have the one we want.\n",
    "\n",
    "# you can now do \n",
    "best_model_prediction = hp.best_model.predict(train)\n"
   ]
  },
  {
   "cell_type": "code",
   "execution_count": 11,
   "metadata": {},
   "outputs": [
    {
     "name": "stdout",
     "output_type": "stream",
     "text": [
      "MSE for train: mean: 0.8410724137239306 std: 0.005425015400903937\n",
      "MSE for test:  mean: 0.9111503585256846  std: 0.04821973676867641\n",
      "\n",
      "RMSE for train: mean: 0.9170952176239971 std: 0.002962352970896379\n",
      "RMSE for test: mean: 0.9542062352765253 std: 0.0253144046954571\n",
      "\n",
      "R^2 for train: mean: 0.5656580614959832 std: 0.002640790302511171\n",
      "R^2 for test: mean: 0.5284766099473235 std: 0.026728189756051148\n",
      "\n",
      "MAE for train: mean: 0.7183515422398641 std: 0.00163673570855802\n",
      "MAE for test: mean: 0.7468300286997503 std: 0.01799796187270791\n",
      "\n",
      "MAPE for train: mean: 0.05158278487137735 std: 0.0001331801037556778\n",
      "MAPE for test: mean: 0.05358336375531612 std: 0.001460397945291499\n",
      "\n"
     ]
    }
   ],
   "source": [
    "hp.best_model.perform_CV(train)"
   ]
  },
  {
   "cell_type": "code",
   "execution_count": null,
   "metadata": {},
   "outputs": [],
   "source": []
  }
 ],
 "metadata": {
  "kernelspec": {
   "display_name": "EPL",
   "language": "python",
   "name": "python3"
  },
  "language_info": {
   "codemirror_mode": {
    "name": "ipython",
    "version": 3
   },
   "file_extension": ".py",
   "mimetype": "text/x-python",
   "name": "python",
   "nbconvert_exporter": "python",
   "pygments_lexer": "ipython3",
   "version": "3.12.3"
  }
 },
 "nbformat": 4,
 "nbformat_minor": 2
}
